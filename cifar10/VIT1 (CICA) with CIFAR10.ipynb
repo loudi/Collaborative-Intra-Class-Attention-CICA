{
  "cells": [
    {
      "cell_type": "code",
      "execution_count": null,
      "metadata": {
        "colab": {
          "base_uri": "https://localhost:8080/",
          "height": 1000
        },
        "id": "HeKpTc5PTQ8a",
        "outputId": "8c96f604-fac7-42c2-9267-ac3678eb66bd"
      },
      "outputs": [
        {
          "name": "stdout",
          "output_type": "stream",
          "text": [
            "\n",
            "Epoch 1/20\n"
          ]
        },
        {
          "name": "stderr",
          "output_type": "stream",
          "text": [
            "Training: 100%|██████████| 1563/1563 [02:02<00:00, 12.77it/s]\n"
          ]
        },
        {
          "name": "stdout",
          "output_type": "stream",
          "text": [
            "Train Loss: 1.9670 | Train Acc: 33.28%\n"
          ]
        },
        {
          "name": "stderr",
          "output_type": "stream",
          "text": [
            "Testing: 100%|██████████| 313/313 [00:03<00:00, 92.78it/s]\n"
          ]
        },
        {
          "name": "stdout",
          "output_type": "stream",
          "text": [
            "Test Loss : 1.5528 | Test Acc : 43.20%\n",
            "\n",
            "Epoch 2/20\n"
          ]
        },
        {
          "name": "stderr",
          "output_type": "stream",
          "text": [
            "Training: 100%|██████████| 1563/1563 [02:02<00:00, 12.79it/s]\n"
          ]
        },
        {
          "name": "stdout",
          "output_type": "stream",
          "text": [
            "Train Loss: 1.5382 | Train Acc: 43.90%\n"
          ]
        },
        {
          "name": "stderr",
          "output_type": "stream",
          "text": [
            "Testing: 100%|██████████| 313/313 [00:03<00:00, 85.30it/s]\n"
          ]
        },
        {
          "name": "stdout",
          "output_type": "stream",
          "text": [
            "Test Loss : 1.4025 | Test Acc : 49.41%\n",
            "\n",
            "Epoch 3/20\n"
          ]
        },
        {
          "name": "stderr",
          "output_type": "stream",
          "text": [
            "Training: 100%|██████████| 1563/1563 [02:01<00:00, 12.84it/s]\n"
          ]
        },
        {
          "name": "stdout",
          "output_type": "stream",
          "text": [
            "Train Loss: 1.4320 | Train Acc: 47.91%\n"
          ]
        },
        {
          "name": "stderr",
          "output_type": "stream",
          "text": [
            "Testing: 100%|██████████| 313/313 [00:04<00:00, 72.17it/s]\n"
          ]
        },
        {
          "name": "stdout",
          "output_type": "stream",
          "text": [
            "Test Loss : 1.3129 | Test Acc : 52.00%\n",
            "\n",
            "Epoch 4/20\n"
          ]
        },
        {
          "name": "stderr",
          "output_type": "stream",
          "text": [
            "Training: 100%|██████████| 1563/1563 [02:02<00:00, 12.80it/s]\n"
          ]
        },
        {
          "name": "stdout",
          "output_type": "stream",
          "text": [
            "Train Loss: 1.3608 | Train Acc: 50.77%\n"
          ]
        },
        {
          "name": "stderr",
          "output_type": "stream",
          "text": [
            "Testing: 100%|██████████| 313/313 [00:03<00:00, 90.54it/s]\n"
          ]
        },
        {
          "name": "stdout",
          "output_type": "stream",
          "text": [
            "Test Loss : 1.2940 | Test Acc : 52.86%\n",
            "\n",
            "Epoch 5/20\n"
          ]
        },
        {
          "name": "stderr",
          "output_type": "stream",
          "text": [
            "Training: 100%|██████████| 1563/1563 [02:01<00:00, 12.83it/s]\n"
          ]
        },
        {
          "name": "stdout",
          "output_type": "stream",
          "text": [
            "Train Loss: 1.3046 | Train Acc: 52.76%\n"
          ]
        },
        {
          "name": "stderr",
          "output_type": "stream",
          "text": [
            "Testing: 100%|██████████| 313/313 [00:03<00:00, 93.31it/s]\n"
          ]
        },
        {
          "name": "stdout",
          "output_type": "stream",
          "text": [
            "Test Loss : 1.2299 | Test Acc : 55.13%\n",
            "\n",
            "Epoch 6/20\n"
          ]
        },
        {
          "name": "stderr",
          "output_type": "stream",
          "text": [
            "Training: 100%|██████████| 1563/1563 [02:01<00:00, 12.83it/s]\n"
          ]
        },
        {
          "name": "stdout",
          "output_type": "stream",
          "text": [
            "Train Loss: 1.2579 | Train Acc: 54.54%\n"
          ]
        },
        {
          "name": "stderr",
          "output_type": "stream",
          "text": [
            "Testing: 100%|██████████| 313/313 [00:03<00:00, 94.64it/s]\n"
          ]
        },
        {
          "name": "stdout",
          "output_type": "stream",
          "text": [
            "Test Loss : 1.2000 | Test Acc : 56.34%\n",
            "\n",
            "Epoch 7/20\n"
          ]
        },
        {
          "name": "stderr",
          "output_type": "stream",
          "text": [
            "Training: 100%|██████████| 1563/1563 [02:01<00:00, 12.83it/s]\n"
          ]
        },
        {
          "name": "stdout",
          "output_type": "stream",
          "text": [
            "Train Loss: 1.2165 | Train Acc: 56.17%\n"
          ]
        },
        {
          "name": "stderr",
          "output_type": "stream",
          "text": [
            "Testing: 100%|██████████| 313/313 [00:03<00:00, 94.07it/s]\n"
          ]
        },
        {
          "name": "stdout",
          "output_type": "stream",
          "text": [
            "Test Loss : 1.1667 | Test Acc : 57.84%\n",
            "\n",
            "Epoch 8/20\n"
          ]
        },
        {
          "name": "stderr",
          "output_type": "stream",
          "text": [
            "Training: 100%|██████████| 1563/1563 [02:01<00:00, 12.87it/s]\n"
          ]
        },
        {
          "name": "stdout",
          "output_type": "stream",
          "text": [
            "Train Loss: 1.1832 | Train Acc: 57.56%\n"
          ]
        },
        {
          "name": "stderr",
          "output_type": "stream",
          "text": [
            "Testing: 100%|██████████| 313/313 [00:04<00:00, 76.92it/s]\n"
          ]
        },
        {
          "name": "stdout",
          "output_type": "stream",
          "text": [
            "Test Loss : 1.1210 | Test Acc : 59.19%\n",
            "\n",
            "Epoch 9/20\n"
          ]
        },
        {
          "name": "stderr",
          "output_type": "stream",
          "text": [
            "Training: 100%|██████████| 1563/1563 [02:02<00:00, 12.81it/s]\n"
          ]
        },
        {
          "name": "stdout",
          "output_type": "stream",
          "text": [
            "Train Loss: 1.1467 | Train Acc: 58.83%\n"
          ]
        },
        {
          "name": "stderr",
          "output_type": "stream",
          "text": [
            "Testing: 100%|██████████| 313/313 [00:03<00:00, 79.75it/s]\n"
          ]
        },
        {
          "name": "stdout",
          "output_type": "stream",
          "text": [
            "Test Loss : 1.0891 | Test Acc : 61.05%\n",
            "\n",
            "Epoch 10/20\n"
          ]
        },
        {
          "name": "stderr",
          "output_type": "stream",
          "text": [
            "Training: 100%|██████████| 1563/1563 [02:01<00:00, 12.81it/s]\n"
          ]
        },
        {
          "name": "stdout",
          "output_type": "stream",
          "text": [
            "Train Loss: 1.1105 | Train Acc: 60.18%\n"
          ]
        },
        {
          "name": "stderr",
          "output_type": "stream",
          "text": [
            "Testing: 100%|██████████| 313/313 [00:03<00:00, 91.66it/s]\n"
          ]
        },
        {
          "name": "stdout",
          "output_type": "stream",
          "text": [
            "Test Loss : 1.0715 | Test Acc : 61.85%\n",
            "\n",
            "Epoch 11/20\n"
          ]
        },
        {
          "name": "stderr",
          "output_type": "stream",
          "text": [
            "Training: 100%|██████████| 1563/1563 [02:02<00:00, 12.81it/s]\n"
          ]
        },
        {
          "name": "stdout",
          "output_type": "stream",
          "text": [
            "Train Loss: 1.0789 | Train Acc: 61.33%\n"
          ]
        },
        {
          "name": "stderr",
          "output_type": "stream",
          "text": [
            "Testing: 100%|██████████| 313/313 [00:03<00:00, 93.01it/s]\n"
          ]
        },
        {
          "name": "stdout",
          "output_type": "stream",
          "text": [
            "Test Loss : 1.0463 | Test Acc : 63.06%\n",
            "\n",
            "Epoch 12/20\n"
          ]
        },
        {
          "name": "stderr",
          "output_type": "stream",
          "text": [
            "Training: 100%|██████████| 1563/1563 [02:02<00:00, 12.77it/s]\n"
          ]
        },
        {
          "name": "stdout",
          "output_type": "stream",
          "text": [
            "Train Loss: 1.0579 | Train Acc: 62.24%\n"
          ]
        },
        {
          "name": "stderr",
          "output_type": "stream",
          "text": [
            "Testing: 100%|██████████| 313/313 [00:03<00:00, 92.54it/s]\n"
          ]
        },
        {
          "name": "stdout",
          "output_type": "stream",
          "text": [
            "Test Loss : 1.0238 | Test Acc : 64.06%\n",
            "\n",
            "Epoch 13/20\n"
          ]
        },
        {
          "name": "stderr",
          "output_type": "stream",
          "text": [
            "Training: 100%|██████████| 1563/1563 [02:02<00:00, 12.79it/s]\n"
          ]
        },
        {
          "name": "stdout",
          "output_type": "stream",
          "text": [
            "Train Loss: 1.0284 | Train Acc: 63.20%\n"
          ]
        },
        {
          "name": "stderr",
          "output_type": "stream",
          "text": [
            "Testing: 100%|██████████| 313/313 [00:04<00:00, 75.12it/s]\n"
          ]
        },
        {
          "name": "stdout",
          "output_type": "stream",
          "text": [
            "Test Loss : 1.0337 | Test Acc : 64.12%\n",
            "\n",
            "Epoch 14/20\n"
          ]
        },
        {
          "name": "stderr",
          "output_type": "stream",
          "text": [
            "Training: 100%|██████████| 1563/1563 [02:02<00:00, 12.76it/s]\n"
          ]
        },
        {
          "name": "stdout",
          "output_type": "stream",
          "text": [
            "Train Loss: 1.0107 | Train Acc: 63.69%\n"
          ]
        },
        {
          "name": "stderr",
          "output_type": "stream",
          "text": [
            "Testing: 100%|██████████| 313/313 [00:03<00:00, 81.62it/s]\n"
          ]
        },
        {
          "name": "stdout",
          "output_type": "stream",
          "text": [
            "Test Loss : 0.9906 | Test Acc : 65.05%\n",
            "\n",
            "Epoch 15/20\n"
          ]
        },
        {
          "name": "stderr",
          "output_type": "stream",
          "text": [
            "Training: 100%|██████████| 1563/1563 [02:02<00:00, 12.79it/s]\n"
          ]
        },
        {
          "name": "stdout",
          "output_type": "stream",
          "text": [
            "Train Loss: 0.9836 | Train Acc: 65.00%\n"
          ]
        },
        {
          "name": "stderr",
          "output_type": "stream",
          "text": [
            "Testing: 100%|██████████| 313/313 [00:03<00:00, 91.62it/s]\n"
          ]
        },
        {
          "name": "stdout",
          "output_type": "stream",
          "text": [
            "Test Loss : 0.9600 | Test Acc : 66.17%\n",
            "\n",
            "Epoch 16/20\n"
          ]
        },
        {
          "name": "stderr",
          "output_type": "stream",
          "text": [
            "Training: 100%|██████████| 1563/1563 [02:02<00:00, 12.80it/s]\n"
          ]
        },
        {
          "name": "stdout",
          "output_type": "stream",
          "text": [
            "Train Loss: 0.9653 | Train Acc: 65.61%\n"
          ]
        },
        {
          "name": "stderr",
          "output_type": "stream",
          "text": [
            "Testing: 100%|██████████| 313/313 [00:03<00:00, 90.21it/s]\n"
          ]
        },
        {
          "name": "stdout",
          "output_type": "stream",
          "text": [
            "Test Loss : 0.9410 | Test Acc : 66.44%\n",
            "\n",
            "Epoch 17/20\n"
          ]
        },
        {
          "name": "stderr",
          "output_type": "stream",
          "text": [
            "Training: 100%|██████████| 1563/1563 [02:02<00:00, 12.78it/s]\n"
          ]
        },
        {
          "name": "stdout",
          "output_type": "stream",
          "text": [
            "Train Loss: 0.9491 | Train Acc: 66.12%\n"
          ]
        },
        {
          "name": "stderr",
          "output_type": "stream",
          "text": [
            "Testing: 100%|██████████| 313/313 [00:03<00:00, 91.50it/s]\n"
          ]
        },
        {
          "name": "stdout",
          "output_type": "stream",
          "text": [
            "Test Loss : 0.9305 | Test Acc : 67.16%\n",
            "\n",
            "Epoch 18/20\n"
          ]
        },
        {
          "name": "stderr",
          "output_type": "stream",
          "text": [
            "Training: 100%|██████████| 1563/1563 [02:02<00:00, 12.78it/s]\n"
          ]
        },
        {
          "name": "stdout",
          "output_type": "stream",
          "text": [
            "Train Loss: 0.9274 | Train Acc: 66.88%\n"
          ]
        },
        {
          "name": "stderr",
          "output_type": "stream",
          "text": [
            "Testing: 100%|██████████| 313/313 [00:04<00:00, 77.48it/s]\n"
          ]
        },
        {
          "name": "stdout",
          "output_type": "stream",
          "text": [
            "Test Loss : 0.9155 | Test Acc : 67.53%\n",
            "\n",
            "Epoch 19/20\n"
          ]
        },
        {
          "name": "stderr",
          "output_type": "stream",
          "text": [
            "Training: 100%|██████████| 1563/1563 [02:02<00:00, 12.76it/s]\n"
          ]
        },
        {
          "name": "stdout",
          "output_type": "stream",
          "text": [
            "Train Loss: 0.9107 | Train Acc: 67.57%\n"
          ]
        },
        {
          "name": "stderr",
          "output_type": "stream",
          "text": [
            "Testing: 100%|██████████| 313/313 [00:04<00:00, 77.07it/s]\n"
          ]
        },
        {
          "name": "stdout",
          "output_type": "stream",
          "text": [
            "Test Loss : 0.9085 | Test Acc : 67.80%\n",
            "\n",
            "Epoch 20/20\n"
          ]
        },
        {
          "name": "stderr",
          "output_type": "stream",
          "text": [
            "Training: 100%|██████████| 1563/1563 [02:02<00:00, 12.78it/s]\n"
          ]
        },
        {
          "name": "stdout",
          "output_type": "stream",
          "text": [
            "Train Loss: 0.8967 | Train Acc: 68.04%\n"
          ]
        },
        {
          "name": "stderr",
          "output_type": "stream",
          "text": [
            "Testing: 100%|██████████| 313/313 [00:03<00:00, 92.65it/s] \n"
          ]
        },
        {
          "name": "stdout",
          "output_type": "stream",
          "text": [
            "Test Loss : 0.8953 | Test Acc : 68.66%\n"
          ]
        },
        {
          "data": {
            "image/png": "[encoded data removed]",
            "text/plain": [
              "<Figure size 1500x500 with 2 Axes>"
            ]
          },
          "metadata": {},
          "output_type": "display_data"
        },
        {
          "name": "stdout",
          "output_type": "stream",
          "text": [
            "Model saved\n"
          ]
        }
      ],
      "source": [
        "\n",
        "\n",
        "import torch\n",
        "import torch.nn as nn\n",
        "import torch.optim as optim\n",
        "from torchvision import datasets, transforms\n",
        "from torch.utils.data import DataLoader\n",
        "from tqdm import tqdm\n",
        "from collections import defaultdict\n",
        "import matplotlib.pyplot as plt\n",
        "\n",
        "##########################\n",
        "# Configuration des hyperparamètres\n",
        "##########################\n",
        "img_size = 32\n",
        "n_channels = 3\n",
        "patch_size = 8\n",
        "d_model = 192\n",
        "num_heads = 8\n",
        "num_layers = 7\n",
        "num_classes = 10\n",
        "ff_dim = 768\n",
        "dropout = 0.1\n",
        "\n",
        "lr = 1e-4\n",
        "batch_size = 32\n",
        "num_epochs = 20\n",
        "num_class_images = 80\n",
        "\n",
        "##########################\n",
        "# Patch Embedding\n",
        "##########################\n",
        "class PatchEmbedding(nn.Module):\n",
        "    def __init__(self, d_model, img_size, patch_size, n_channels):\n",
        "        super().__init__()\n",
        "        self.patch_embedding = nn.Conv2d(\n",
        "            in_channels=n_channels,\n",
        "            out_channels=d_model,\n",
        "            kernel_size=patch_size,\n",
        "            stride=patch_size\n",
        "        )\n",
        "\n",
        "    def forward(self, x):\n",
        "        x = self.patch_embedding(x)\n",
        "        x = x.flatten(2)\n",
        "        x = x.transpose(1, 2)\n",
        "        return x\n",
        "\n",
        "##########################\n",
        "# IntraClassAttention++\n",
        "##########################\n",
        "\n",
        "class IntraClassAttentionEnhanced(nn.Module):\n",
        "    def __init__(self, d_model=192, num_heads=16, dropout=0.1):\n",
        "        super().__init__()\n",
        "        self.embed_dim = d_model\n",
        "\n",
        "        self.prototype_embedding = nn.Sequential(\n",
        "            nn.Conv2d(3, 16, 3, padding=1),\n",
        "            nn.BatchNorm2d(16),\n",
        "            nn.GELU(),\n",
        "            nn.Conv2d(16, 32, 3, padding=1, stride=2),\n",
        "            nn.BatchNorm2d(32),\n",
        "            nn.GELU(),\n",
        "            nn.AdaptiveAvgPool2d((2, 2)),\n",
        "            nn.Flatten(),\n",
        "            nn.Linear(32 * 2 * 2, d_model),\n",
        "        )\n",
        "\n",
        "        self.norm_proto = nn.LayerNorm(d_model)\n",
        "        self.norm_cls = nn.LayerNorm(d_model)\n",
        "        self.attn1 = nn.MultiheadAttention(d_model, num_heads=num_heads, batch_first=True)\n",
        "        self.attn2 = nn.MultiheadAttention(d_model, num_heads=num_heads, batch_first=True)\n",
        "\n",
        "        self.fusion = nn.Sequential(\n",
        "            nn.Linear(d_model * 2, d_model * 2),\n",
        "            nn.GELU(),\n",
        "            nn.Dropout(dropout),\n",
        "            nn.Linear(d_model * 2, d_model),\n",
        "            nn.LayerNorm(d_model)\n",
        "        )\n",
        "\n",
        "        self.alpha = nn.Parameter(torch.tensor(0.5))\n",
        "        self.beta = nn.Parameter(torch.tensor(0.5))\n",
        "\n",
        "    def forward(self, cls_token, class_images):\n",
        "        B, num_proto, C, H, W = class_images.size()\n",
        "        proto_emb = self.prototype_embedding(class_images.view(B * num_proto, C, H, W))\n",
        "        proto_emb = proto_emb.view(B, num_proto, self.embed_dim)\n",
        "        proto_emb = self.norm_proto(proto_emb)\n",
        "        cls_norm = self.norm_cls(cls_token).unsqueeze(1)\n",
        "\n",
        "        # Première attention CLS->Proto\n",
        "        attn1_out, _ = self.attn1(cls_norm, proto_emb, proto_emb)\n",
        "\n",
        "        # Deuxième passe : réattention CLS->(CLS+Proto)\n",
        "        merged = torch.cat([attn1_out, cls_norm], dim=1)\n",
        "        attn2_out, _ = self.attn2(cls_norm, merged, merged)\n",
        "\n",
        "        fused = torch.cat([cls_token, attn2_out.squeeze(1)], dim=-1)\n",
        "        fused = self.fusion(fused)\n",
        "\n",
        "        alpha_scaled = torch.sigmoid(self.alpha)\n",
        "        beta_scaled = torch.sigmoid(self.beta)\n",
        "        return alpha_scaled * cls_token + beta_scaled * fused\n",
        "\n",
        "\n",
        "\n",
        "\n",
        "\n",
        "\n",
        "\n",
        "\n",
        "##########################\n",
        "# ViT + ICA++\n",
        "##########################\n",
        "class ViT(nn.Module):\n",
        "    def __init__(self, img_size, n_channels, patch_size, d_model, num_heads, num_layers,\n",
        "                 num_classes, ff_dim, dropout, num_class_images=num_class_images):\n",
        "        super(ViT, self).__init__()\n",
        "        self.num_class_images = num_class_images\n",
        "        self.patch_embedding = PatchEmbedding(d_model, img_size, patch_size, n_channels)\n",
        "\n",
        "        self.cls_token = nn.Parameter(torch.randn(1, 1, d_model))\n",
        "        num_patches = (img_size // patch_size) ** 2\n",
        "        self.position_embedding = nn.Parameter(torch.randn(1, num_patches + 1, d_model))\n",
        "\n",
        "        encoder_layer = nn.TransformerEncoderLayer(\n",
        "            d_model=d_model,\n",
        "            nhead=num_heads,\n",
        "            dim_feedforward=ff_dim,\n",
        "            dropout=dropout,\n",
        "            batch_first=True\n",
        "        )\n",
        "        self.transformer_encoder = nn.TransformerEncoder(encoder_layer, num_layers=num_layers)\n",
        "\n",
        "        self.intra_attn = IntraClassAttentionEnhanced(d_model=d_model, num_heads=num_heads)\n",
        "\n",
        "        self.dropout = nn.Dropout(dropout)\n",
        "        self.fc = nn.Linear(d_model*2 , num_classes)\n",
        "        self.fc_cls = nn.Linear(d_model, num_classes)\n",
        "\n",
        "    def forward(self, x, class_images=None):\n",
        "        N = x.shape[0]\n",
        "        x = self.patch_embedding(x)\n",
        "        cls_tokens = self.cls_token.repeat(N, 1, 1)\n",
        "        x = torch.cat((cls_tokens, x), dim=1)\n",
        "        x = x + self.position_embedding\n",
        "        x = self.transformer_encoder(x)\n",
        "        cls_out = x[:, 0]\n",
        "\n",
        "        if self.training and class_images is not None:\n",
        "            fused_out = self.intra_attn(cls_out, class_images)\n",
        "            combined_out = torch.cat([cls_out, fused_out], dim=1)\n",
        "            out_with_proto = self.fc(combined_out)\n",
        "            out_cls = self.fc_cls(cls_out)\n",
        "            return out_with_proto, out_cls\n",
        "        else:\n",
        "            return self.fc_cls(cls_out)\n",
        "\n",
        "##########################\n",
        "# Prototypes\n",
        "##########################\n",
        "\n",
        "\n",
        "def prepare_class_images(class_images, label, batch_size):\n",
        "    images = class_images[label]\n",
        "    if len(images) < batch_size:\n",
        "        images = images.repeat(batch_size // len(images) + 1)[:batch_size]\n",
        "    else:\n",
        "        images = images[:batch_size]\n",
        "    return images\n",
        "##########################\n",
        "# DataLoader\n",
        "##########################\n",
        "def get_data_loaders(batch_size=batch_size):\n",
        "    transform_train = transforms.Compose([\n",
        "        transforms.RandomHorizontalFlip(),\n",
        "        transforms.RandomCrop(32, padding=4),\n",
        "        transforms.ToTensor(),\n",
        "        transforms.Normalize((0.4914, 0.4822, 0.4465), (0.2023, 0.1994, 0.2010))\n",
        "    ])\n",
        "    transform_test = transforms.Compose([\n",
        "        transforms.ToTensor(),\n",
        "        transforms.Normalize((0.4914, 0.4822, 0.4465), (0.2023, 0.1994, 0.2010))\n",
        "    ])\n",
        "\n",
        "    trainset = datasets.CIFAR10(root='./data', train=True, transform=transform_train, download=True)\n",
        "    testset = datasets.CIFAR10(root='./data', train=False, transform=transform_test, download=True)\n",
        "\n",
        "    class_images = defaultdict(list)\n",
        "    for img, label in trainset:\n",
        "        class_images[label].append(img)\n",
        "    for label, imgs in class_images.items():\n",
        "        class_images[label] = torch.stack(imgs)\n",
        "\n",
        "    trainloader = DataLoader(trainset, batch_size=batch_size, shuffle=True, num_workers=2)\n",
        "    testloader = DataLoader(testset, batch_size=batch_size, shuffle=False, num_workers=2)\n",
        "    return trainloader, testloader, class_images\n",
        "\n",
        "##########################\n",
        "# Train & Test\n",
        "##########################\n",
        "def train(model, train_loader, optimizer, criterion, class_images, device):\n",
        "    model.train()\n",
        "    running_loss = 0.0\n",
        "    correct = 0\n",
        "    total = 0\n",
        "    for images, labels in tqdm(train_loader, desc=\"Training\"):\n",
        "        prototypes = torch.stack([prepare_class_images(class_images, label.item(), model.num_class_images)\n",
        "                                  for label in labels]).to(device)\n",
        "\n",
        "        images = images.to(device)\n",
        "        labels = labels.to(device)\n",
        "\n",
        "        optimizer.zero_grad()\n",
        "        out_with_proto, out_cls = model(images, prototypes)\n",
        "\n",
        "        loss_proto = criterion(out_with_proto, labels)\n",
        "        loss_cls = criterion(out_cls, labels)\n",
        "        loss = loss_proto + loss_cls\n",
        "\n",
        "        loss.backward()\n",
        "        torch.nn.utils.clip_grad_norm_(model.parameters(), max_norm=1.0)\n",
        "        optimizer.step()\n",
        "\n",
        "        running_loss += loss.item()\n",
        "        _, predicted = torch.max(out_cls.data, 1)\n",
        "        total += labels.size(0)\n",
        "        correct += (predicted == labels).sum().item()\n",
        "\n",
        "    return running_loss / len(train_loader), 100 * correct / total\n",
        "\n",
        "def test(model, test_loader, criterion, device):\n",
        "    model.eval()\n",
        "    correct = 0\n",
        "    total = 0\n",
        "    running_test_loss = 0.0\n",
        "    with torch.no_grad():\n",
        "        for images, labels in tqdm(test_loader, desc=\"Testing\"):\n",
        "            images = images.to(device)\n",
        "            labels = labels.to(device)\n",
        "            outputs = model(images, class_images=None)\n",
        "            loss = criterion(outputs, labels)\n",
        "            running_test_loss += loss.item()\n",
        "            _, predicted = torch.max(outputs.data, 1)\n",
        "            total += labels.size(0)\n",
        "            correct += (predicted == labels).sum().item()\n",
        "    return running_test_loss / len(test_loader), 100 * correct / total\n",
        "\n",
        "##########################\n",
        "# Main\n",
        "##########################\n",
        "def main():\n",
        "    device = torch.device('cuda' if torch.cuda.is_available() else 'cpu')\n",
        "    trainloader, testloader, class_images = get_data_loaders()\n",
        "    model = ViT(img_size, n_channels, patch_size, d_model, num_heads, num_layers, num_classes, ff_dim, dropout)\n",
        "    model.to(device)\n",
        "    criterion = nn.CrossEntropyLoss()\n",
        "    optimizer = optim.AdamW(model.parameters(), lr=lr)\n",
        "\n",
        "    t_train_acc, t_test_acc, t_train_loss, t_test_loss = [], [], [], []\n",
        "\n",
        "    for epoch in range(num_epochs):\n",
        "        print(f'\\nEpoch {epoch+1}/{num_epochs}')\n",
        "        train_loss, train_accuracy = train(model, trainloader, optimizer, criterion, class_images, device)\n",
        "        print(f'Train Loss: {train_loss:.4f} | Train Acc: {train_accuracy:.2f}%')\n",
        "        test_loss, test_accuracy = test(model, testloader, criterion, device)\n",
        "        print(f'Test Loss : {test_loss:.4f} | Test Acc : {test_accuracy:.2f}%')\n",
        "\n",
        "        t_train_acc.append(train_accuracy)\n",
        "        t_test_acc.append(test_accuracy)\n",
        "        t_train_loss.append(train_loss)\n",
        "        t_test_loss.append(test_loss)\n",
        "\n",
        "    # Visualisation\n",
        "    fig, ax = plt.subplots(1, 2, figsize=(15, 5))\n",
        "    ax[0].plot(range(1, num_epochs + 1), t_train_loss, label='Train Loss', marker='o')\n",
        "    ax[0].plot(range(1, num_epochs + 1), t_test_loss, label='Test Loss', marker='o')\n",
        "    ax[0].legend()\n",
        "    ax[0].grid(True)\n",
        "    ax[1].plot(range(1, num_epochs + 1), t_train_acc, label='Train Acc', marker='o')\n",
        "    ax[1].plot(range(1, num_epochs + 1), t_test_acc, label='Test Acc', marker='o')\n",
        "    ax[1].legend()\n",
        "    ax[1].grid(True)\n",
        "    plt.tight_layout()\n",
        "    plt.show()\n",
        "\n",
        "    torch.save(model.state_dict(), 'model_state_dict.pth')\n",
        "    print(\"Model saved\")\n",
        "\n",
        "if __name__ == '__main__':\n",
        "    main()\n",
        "\n",
        "\n"
      ]
    }
  ],
  "metadata": {
    "accelerator": "GPU",
    "colab": {
      "gpuType": "T4",
      "provenance": []
    },
    "kernelspec": {
      "display_name": "Python 3",
      "name": "python3"
    },
    "language_info": {
      "name": "python"
    }
  },
  "nbformat": 4,
  "nbformat_minor": 0
}
