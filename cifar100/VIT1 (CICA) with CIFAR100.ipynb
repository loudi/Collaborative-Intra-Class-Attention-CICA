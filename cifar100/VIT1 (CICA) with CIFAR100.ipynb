{
  "cells": [
    {
      "cell_type": "code",
      "execution_count": null,
      "metadata": {
        "colab": {
          "base_uri": "https://localhost:8080/",
          "height": 1000
        },
        "id": "hMbVxJ8FjqcB",
        "outputId": "1d3f4ce7-fcaa-4617-a09c-7f61679eee37"
      },
      "outputs": [
        {
          "name": "stdout",
          "output_type": "stream",
          "text": [
            "\n",
            "Epoch 1/20\n"
          ]
        },
        {
          "name": "stderr",
          "output_type": "stream",
          "text": [
            "Training: 100%|██████████| 1563/1563 [03:03<00:00,  8.53it/s]\n"
          ]
        },
        {
          "name": "stdout",
          "output_type": "stream",
          "text": [
            "Train Loss: 5.0799 | Train Acc: 7.34%\n"
          ]
        },
        {
          "name": "stderr",
          "output_type": "stream",
          "text": [
            "Testing: 100%|██████████| 313/313 [00:03<00:00, 85.81it/s]\n"
          ]
        },
        {
          "name": "stdout",
          "output_type": "stream",
          "text": [
            "Test Loss : 3.7526 | Test Acc : 12.77%\n",
            "\n",
            "Epoch 2/20\n"
          ]
        },
        {
          "name": "stderr",
          "output_type": "stream",
          "text": [
            "Training: 100%|██████████| 1563/1563 [03:03<00:00,  8.52it/s]\n"
          ]
        },
        {
          "name": "stdout",
          "output_type": "stream",
          "text": [
            "Train Loss: 3.5739 | Train Acc: 15.21%\n"
          ]
        },
        {
          "name": "stderr",
          "output_type": "stream",
          "text": [
            "Testing: 100%|██████████| 313/313 [00:03<00:00, 79.22it/s]\n"
          ]
        },
        {
          "name": "stdout",
          "output_type": "stream",
          "text": [
            "Test Loss : 3.4070 | Test Acc : 18.08%\n",
            "\n",
            "Epoch 3/20\n"
          ]
        },
        {
          "name": "stderr",
          "output_type": "stream",
          "text": [
            "Training: 100%|██████████| 1563/1563 [03:00<00:00,  8.67it/s]\n"
          ]
        },
        {
          "name": "stdout",
          "output_type": "stream",
          "text": [
            "Train Loss: 3.3335 | Train Acc: 19.51%\n"
          ]
        },
        {
          "name": "stderr",
          "output_type": "stream",
          "text": [
            "Testing: 100%|██████████| 313/313 [00:04<00:00, 66.98it/s]\n"
          ]
        },
        {
          "name": "stdout",
          "output_type": "stream",
          "text": [
            "Test Loss : 3.1835 | Test Acc : 22.24%\n",
            "\n",
            "Epoch 4/20\n"
          ]
        },
        {
          "name": "stderr",
          "output_type": "stream",
          "text": [
            "Training: 100%|██████████| 1563/1563 [03:03<00:00,  8.53it/s]\n"
          ]
        },
        {
          "name": "stdout",
          "output_type": "stream",
          "text": [
            "Train Loss: 3.1890 | Train Acc: 21.86%\n"
          ]
        },
        {
          "name": "stderr",
          "output_type": "stream",
          "text": [
            "Testing: 100%|██████████| 313/313 [00:04<00:00, 68.78it/s]\n"
          ]
        },
        {
          "name": "stdout",
          "output_type": "stream",
          "text": [
            "Test Loss : 3.0948 | Test Acc : 23.76%\n",
            "\n",
            "Epoch 5/20\n"
          ]
        },
        {
          "name": "stderr",
          "output_type": "stream",
          "text": [
            "Training: 100%|██████████| 1563/1563 [03:02<00:00,  8.57it/s]\n"
          ]
        },
        {
          "name": "stdout",
          "output_type": "stream",
          "text": [
            "Train Loss: 3.0693 | Train Acc: 23.96%\n"
          ]
        },
        {
          "name": "stderr",
          "output_type": "stream",
          "text": [
            "Testing: 100%|██████████| 313/313 [00:04<00:00, 66.36it/s]\n"
          ]
        },
        {
          "name": "stdout",
          "output_type": "stream",
          "text": [
            "Test Loss : 2.9750 | Test Acc : 26.32%\n",
            "\n",
            "Epoch 6/20\n"
          ]
        },
        {
          "name": "stderr",
          "output_type": "stream",
          "text": [
            "Training: 100%|██████████| 1563/1563 [03:02<00:00,  8.55it/s]\n"
          ]
        },
        {
          "name": "stdout",
          "output_type": "stream",
          "text": [
            "Train Loss: 2.9703 | Train Acc: 26.17%\n"
          ]
        },
        {
          "name": "stderr",
          "output_type": "stream",
          "text": [
            "Testing: 100%|██████████| 313/313 [00:04<00:00, 71.35it/s]\n"
          ]
        },
        {
          "name": "stdout",
          "output_type": "stream",
          "text": [
            "Test Loss : 2.9450 | Test Acc : 26.98%\n",
            "\n",
            "Epoch 7/20\n"
          ]
        },
        {
          "name": "stderr",
          "output_type": "stream",
          "text": [
            "Training: 100%|██████████| 1563/1563 [03:02<00:00,  8.58it/s]\n"
          ]
        },
        {
          "name": "stdout",
          "output_type": "stream",
          "text": [
            "Train Loss: 2.8819 | Train Acc: 27.62%\n"
          ]
        },
        {
          "name": "stderr",
          "output_type": "stream",
          "text": [
            "Testing: 100%|██████████| 313/313 [00:04<00:00, 76.63it/s]\n"
          ]
        },
        {
          "name": "stdout",
          "output_type": "stream",
          "text": [
            "Test Loss : 2.8496 | Test Acc : 28.91%\n",
            "\n",
            "Epoch 8/20\n"
          ]
        },
        {
          "name": "stderr",
          "output_type": "stream",
          "text": [
            "Training: 100%|██████████| 1563/1563 [03:01<00:00,  8.60it/s]\n"
          ]
        },
        {
          "name": "stdout",
          "output_type": "stream",
          "text": [
            "Train Loss: 2.8007 | Train Acc: 29.32%\n"
          ]
        },
        {
          "name": "stderr",
          "output_type": "stream",
          "text": [
            "Testing: 100%|██████████| 313/313 [00:03<00:00, 85.44it/s]\n"
          ]
        },
        {
          "name": "stdout",
          "output_type": "stream",
          "text": [
            "Test Loss : 2.7777 | Test Acc : 30.37%\n",
            "\n",
            "Epoch 9/20\n"
          ]
        },
        {
          "name": "stderr",
          "output_type": "stream",
          "text": [
            "Training: 100%|██████████| 1563/1563 [03:03<00:00,  8.50it/s]\n"
          ]
        },
        {
          "name": "stdout",
          "output_type": "stream",
          "text": [
            "Train Loss: 2.7209 | Train Acc: 30.90%\n"
          ]
        },
        {
          "name": "stderr",
          "output_type": "stream",
          "text": [
            "Testing: 100%|██████████| 313/313 [00:03<00:00, 88.32it/s]\n"
          ]
        },
        {
          "name": "stdout",
          "output_type": "stream",
          "text": [
            "Test Loss : 2.6710 | Test Acc : 32.94%\n",
            "\n",
            "Epoch 10/20\n"
          ]
        },
        {
          "name": "stderr",
          "output_type": "stream",
          "text": [
            "Training: 100%|██████████| 1563/1563 [03:03<00:00,  8.53it/s]\n"
          ]
        },
        {
          "name": "stdout",
          "output_type": "stream",
          "text": [
            "Train Loss: 2.6571 | Train Acc: 32.04%\n"
          ]
        },
        {
          "name": "stderr",
          "output_type": "stream",
          "text": [
            "Testing: 100%|██████████| 313/313 [00:03<00:00, 84.18it/s]\n"
          ]
        },
        {
          "name": "stdout",
          "output_type": "stream",
          "text": [
            "Test Loss : 2.6246 | Test Acc : 33.84%\n",
            "\n",
            "Epoch 11/20\n"
          ]
        },
        {
          "name": "stderr",
          "output_type": "stream",
          "text": [
            "Training: 100%|██████████| 1563/1563 [03:04<00:00,  8.47it/s]\n"
          ]
        },
        {
          "name": "stdout",
          "output_type": "stream",
          "text": [
            "Train Loss: 2.5812 | Train Acc: 33.75%\n"
          ]
        },
        {
          "name": "stderr",
          "output_type": "stream",
          "text": [
            "Testing: 100%|██████████| 313/313 [00:03<00:00, 83.97it/s]\n"
          ]
        },
        {
          "name": "stdout",
          "output_type": "stream",
          "text": [
            "Test Loss : 2.5537 | Test Acc : 35.29%\n",
            "\n",
            "Epoch 12/20\n"
          ]
        },
        {
          "name": "stderr",
          "output_type": "stream",
          "text": [
            "Training: 100%|██████████| 1563/1563 [03:04<00:00,  8.49it/s]\n"
          ]
        },
        {
          "name": "stdout",
          "output_type": "stream",
          "text": [
            "Train Loss: 2.5227 | Train Acc: 34.81%\n"
          ]
        },
        {
          "name": "stderr",
          "output_type": "stream",
          "text": [
            "Testing: 100%|██████████| 313/313 [00:03<00:00, 84.92it/s]\n"
          ]
        },
        {
          "name": "stdout",
          "output_type": "stream",
          "text": [
            "Test Loss : 2.5118 | Test Acc : 36.02%\n",
            "\n",
            "Epoch 13/20\n"
          ]
        },
        {
          "name": "stderr",
          "output_type": "stream",
          "text": [
            "Training: 100%|██████████| 1563/1563 [03:03<00:00,  8.52it/s]\n"
          ]
        },
        {
          "name": "stdout",
          "output_type": "stream",
          "text": [
            "Train Loss: 2.4548 | Train Acc: 36.46%\n"
          ]
        },
        {
          "name": "stderr",
          "output_type": "stream",
          "text": [
            "Testing: 100%|██████████| 313/313 [00:03<00:00, 86.23it/s]\n"
          ]
        },
        {
          "name": "stdout",
          "output_type": "stream",
          "text": [
            "Test Loss : 2.4878 | Test Acc : 36.75%\n",
            "\n",
            "Epoch 14/20\n"
          ]
        },
        {
          "name": "stderr",
          "output_type": "stream",
          "text": [
            "Training: 100%|██████████| 1563/1563 [03:03<00:00,  8.50it/s]\n"
          ]
        },
        {
          "name": "stdout",
          "output_type": "stream",
          "text": [
            "Train Loss: 2.3984 | Train Acc: 37.43%\n"
          ]
        },
        {
          "name": "stderr",
          "output_type": "stream",
          "text": [
            "Testing: 100%|██████████| 313/313 [00:03<00:00, 84.88it/s]\n"
          ]
        },
        {
          "name": "stdout",
          "output_type": "stream",
          "text": [
            "Test Loss : 2.4232 | Test Acc : 37.88%\n",
            "\n",
            "Epoch 15/20\n"
          ]
        },
        {
          "name": "stderr",
          "output_type": "stream",
          "text": [
            "Training: 100%|██████████| 1563/1563 [03:03<00:00,  8.52it/s]\n"
          ]
        },
        {
          "name": "stdout",
          "output_type": "stream",
          "text": [
            "Train Loss: 2.3447 | Train Acc: 38.70%\n"
          ]
        },
        {
          "name": "stderr",
          "output_type": "stream",
          "text": [
            "Testing: 100%|██████████| 313/313 [00:03<00:00, 82.46it/s]\n"
          ]
        },
        {
          "name": "stdout",
          "output_type": "stream",
          "text": [
            "Test Loss : 2.3918 | Test Acc : 38.62%\n",
            "\n",
            "Epoch 16/20\n"
          ]
        },
        {
          "name": "stderr",
          "output_type": "stream",
          "text": [
            "Training: 100%|██████████| 1563/1563 [03:03<00:00,  8.53it/s]\n"
          ]
        },
        {
          "name": "stdout",
          "output_type": "stream",
          "text": [
            "Train Loss: 2.2931 | Train Acc: 39.76%\n"
          ]
        },
        {
          "name": "stderr",
          "output_type": "stream",
          "text": [
            "Testing: 100%|██████████| 313/313 [00:03<00:00, 88.36it/s]\n"
          ]
        },
        {
          "name": "stdout",
          "output_type": "stream",
          "text": [
            "Test Loss : 2.3579 | Test Acc : 39.52%\n",
            "\n",
            "Epoch 17/20\n"
          ]
        },
        {
          "name": "stderr",
          "output_type": "stream",
          "text": [
            "Training: 100%|██████████| 1563/1563 [03:02<00:00,  8.54it/s]\n"
          ]
        },
        {
          "name": "stdout",
          "output_type": "stream",
          "text": [
            "Train Loss: 2.2455 | Train Acc: 40.61%\n"
          ]
        },
        {
          "name": "stderr",
          "output_type": "stream",
          "text": [
            "Testing: 100%|██████████| 313/313 [00:03<00:00, 81.90it/s]\n"
          ]
        },
        {
          "name": "stdout",
          "output_type": "stream",
          "text": [
            "Test Loss : 2.3124 | Test Acc : 40.59%\n",
            "\n",
            "Epoch 18/20\n"
          ]
        },
        {
          "name": "stderr",
          "output_type": "stream",
          "text": [
            "Training: 100%|██████████| 1563/1563 [03:02<00:00,  8.58it/s]\n"
          ]
        },
        {
          "name": "stdout",
          "output_type": "stream",
          "text": [
            "Train Loss: 2.1966 | Train Acc: 41.82%\n"
          ]
        },
        {
          "name": "stderr",
          "output_type": "stream",
          "text": [
            "Testing: 100%|██████████| 313/313 [00:04<00:00, 71.75it/s]\n"
          ]
        },
        {
          "name": "stdout",
          "output_type": "stream",
          "text": [
            "Test Loss : 2.2875 | Test Acc : 41.07%\n",
            "\n",
            "Epoch 19/20\n"
          ]
        },
        {
          "name": "stderr",
          "output_type": "stream",
          "text": [
            "Training: 100%|██████████| 1563/1563 [03:01<00:00,  8.61it/s]\n"
          ]
        },
        {
          "name": "stdout",
          "output_type": "stream",
          "text": [
            "Train Loss: 2.1491 | Train Acc: 42.66%\n"
          ]
        },
        {
          "name": "stderr",
          "output_type": "stream",
          "text": [
            "Testing: 100%|██████████| 313/313 [00:04<00:00, 73.18it/s]\n"
          ]
        },
        {
          "name": "stdout",
          "output_type": "stream",
          "text": [
            "Test Loss : 2.2624 | Test Acc : 42.07%\n",
            "\n",
            "Epoch 20/20\n"
          ]
        },
        {
          "name": "stderr",
          "output_type": "stream",
          "text": [
            "Training: 100%|██████████| 1563/1563 [03:01<00:00,  8.63it/s]\n"
          ]
        },
        {
          "name": "stdout",
          "output_type": "stream",
          "text": [
            "Train Loss: 2.1087 | Train Acc: 43.70%\n"
          ]
        },
        {
          "name": "stderr",
          "output_type": "stream",
          "text": [
            "Testing: 100%|██████████| 313/313 [00:04<00:00, 69.76it/s]\n"
          ]
        },
        {
          "name": "stdout",
          "output_type": "stream",
          "text": [
            "Test Loss : 2.2578 | Test Acc : 42.16%\n"
          ]
        },
        {
          "data": {
            "image/png": "[encoded data removed]",
            "text/plain": [
              "<Figure size 1500x500 with 2 Axes>"
            ]
          },
          "metadata": {},
          "output_type": "display_data"
        },
        {
          "name": "stdout",
          "output_type": "stream",
          "text": [
            "Model saved\n"
          ]
        }
      ],
      "source": [
        "import torch\n",
        "import torch.nn as nn\n",
        "import torch.optim as optim\n",
        "from torchvision import datasets, transforms\n",
        "from torch.utils.data import DataLoader\n",
        "from tqdm import tqdm\n",
        "from collections import defaultdict\n",
        "import matplotlib.pyplot as plt\n",
        "\n",
        "##########################\n",
        "# Configuration des hyperparamètres\n",
        "##########################\n",
        "img_size = 32\n",
        "n_channels = 3\n",
        "patch_size = 8\n",
        "d_model = 192\n",
        "num_heads = 8\n",
        "num_layers = 7\n",
        "num_classes = 100\n",
        "ff_dim = 768\n",
        "dropout = 0.1\n",
        "\n",
        "lr = 1e-4\n",
        "batch_size = 32\n",
        "num_epochs = 20\n",
        "num_class_images = 18\n",
        "\n",
        "##########################\n",
        "# Patch Embedding\n",
        "##########################\n",
        "class PatchEmbedding(nn.Module):\n",
        "    def __init__(self, d_model, img_size, patch_size, n_channels):\n",
        "        super().__init__()\n",
        "        self.patch_embedding = nn.Conv2d(\n",
        "            in_channels=n_channels,\n",
        "            out_channels=d_model,\n",
        "            kernel_size=patch_size,\n",
        "            stride=patch_size\n",
        "        )\n",
        "\n",
        "    def forward(self, x):\n",
        "        x = self.patch_embedding(x)\n",
        "        x = x.flatten(2)\n",
        "        x = x.transpose(1, 2)\n",
        "        return x\n",
        "\n",
        "##########################\n",
        "# IntraClassAttention++\n",
        "##########################\n",
        "class IntraClassAttentionImproved(nn.Module):\n",
        "    def __init__(self, d_model=192, num_heads=8, dropout=0.1):\n",
        "        super().__init__()\n",
        "        self.embed_dim = d_model\n",
        "\n",
        "        # CNN léger pour prototypes\n",
        "        self.prototype_embedding = nn.Sequential(\n",
        "            nn.Conv2d(3, 8, 3, padding=1),\n",
        "            nn.ReLU(),\n",
        "            nn.AdaptiveAvgPool2d((4, 4)),\n",
        "            nn.Flatten(),\n",
        "            nn.Linear(8 * 4 * 4, d_model)\n",
        "        )\n",
        "\n",
        "        self.norm_proto = nn.LayerNorm(d_model)\n",
        "        self.attention = nn.MultiheadAttention(d_model, num_heads=num_heads, batch_first=True)\n",
        "\n",
        "        # Dropout ICA\n",
        "        self.dropout_attn = nn.Dropout(dropout)\n",
        "\n",
        "        # Poids adaptatif (borné par sigmoid)\n",
        "        self.alpha = nn.Parameter(torch.tensor(0.5))\n",
        "\n",
        "    def forward(self, cls_token, class_images):\n",
        "        B, num_proto, C, H, W = class_images.size()\n",
        "\n",
        "        # Encodage + augmentation prototypes\n",
        "        proto_emb = self.prototype_embedding(class_images.view(B*num_proto, C, H, W))\n",
        "        proto_emb = proto_emb.view(B, num_proto, self.embed_dim)\n",
        "        proto_emb = self.norm_proto(proto_emb)\n",
        "\n",
        "        cls_expanded = cls_token.unsqueeze(1)\n",
        "        attn_out, _ = self.attention(cls_expanded, proto_emb, proto_emb)\n",
        "\n",
        "        # Mélange régulé\n",
        "        alpha_scaled = torch.sigmoid(self.alpha)  # α borné\n",
        "        out = cls_token + alpha_scaled * self.dropout_attn(attn_out.squeeze(1))\n",
        "        return out\n",
        "\n",
        "\n",
        "\n",
        "##########################\n",
        "# ViT + ICA++\n",
        "##########################\n",
        "class ViT(nn.Module):\n",
        "    def __init__(self, img_size, n_channels, patch_size, d_model, num_heads, num_layers,\n",
        "                 num_classes, ff_dim, dropout, num_class_images=num_class_images):\n",
        "        super(ViT, self).__init__()\n",
        "        self.num_class_images = num_class_images\n",
        "        self.patch_embedding = PatchEmbedding(d_model, img_size, patch_size, n_channels)\n",
        "\n",
        "        self.cls_token = nn.Parameter(torch.randn(1, 1, d_model))\n",
        "        num_patches = (img_size // patch_size) ** 2\n",
        "        self.position_embedding = nn.Parameter(torch.randn(1, num_patches + 1, d_model))\n",
        "\n",
        "        encoder_layer = nn.TransformerEncoderLayer(\n",
        "            d_model=d_model,\n",
        "            nhead=num_heads,\n",
        "            dim_feedforward=ff_dim,\n",
        "            dropout=dropout,\n",
        "            batch_first=True\n",
        "        )\n",
        "        self.transformer_encoder = nn.TransformerEncoder(encoder_layer, num_layers=num_layers)\n",
        "\n",
        "        self.intra_attn = IntraClassAttentionImproved(d_model=d_model, num_heads=num_heads)\n",
        "\n",
        "        self.dropout = nn.Dropout(dropout)\n",
        "        self.fc = nn.Linear(d_model*2 , num_classes)\n",
        "        self.fc_cls = nn.Linear(d_model, num_classes)\n",
        "\n",
        "    def forward(self, x, class_images=None):\n",
        "        N = x.shape[0]\n",
        "        x = self.patch_embedding(x)\n",
        "        cls_tokens = self.cls_token.repeat(N, 1, 1)\n",
        "        x = torch.cat((cls_tokens, x), dim=1)\n",
        "        x = x + self.position_embedding\n",
        "        x = self.transformer_encoder(x)\n",
        "        cls_out = x[:, 0]\n",
        "\n",
        "        if self.training and class_images is not None:\n",
        "            fused_out = self.intra_attn(cls_out, class_images)\n",
        "            combined_out = torch.cat([cls_out, fused_out], dim=1)\n",
        "            out_with_proto = self.fc(combined_out)\n",
        "            out_cls = self.fc_cls(cls_out)\n",
        "            return out_with_proto, out_cls\n",
        "        else:\n",
        "            return self.fc_cls(cls_out)\n",
        "\n",
        "##########################\n",
        "# Prototypes\n",
        "##########################\n",
        "\n",
        "\n",
        "def prepare_class_images(class_images_dict, label, num_prototypes):\n",
        "    images = class_images_dict[label]\n",
        "    n = len(images)\n",
        "\n",
        "    # Sélection diversifiée des prototypes\n",
        "    if n < num_prototypes:\n",
        "        # Duplication avec variation\n",
        "        repeated = images.repeat(2, 1, 1, 1)[:num_prototypes]\n",
        "        # Appliquer de légères transformations aléatoires\n",
        "        transforms = nn.Sequential(\n",
        "            transforms.RandomRotation(10),\n",
        "            transforms.ColorJitter(brightness=0.1, contrast=0.1))\n",
        "        return transforms(repeated)\n",
        "    else:\n",
        "        # Sélection des prototypes les plus centraux (k-means simplifié)\n",
        "        mean_image = images.mean(dim=0)\n",
        "        distances = torch.norm((images - mean_image).view(images.size(0), -1), dim=1)\n",
        "        _, indices = torch.topk(distances, num_prototypes, largest=False)\n",
        "        return images[indices]\n",
        "##########################\n",
        "# DataLoader\n",
        "##########################\n",
        "def get_data_loaders(batch_size=batch_size):\n",
        "    transform_train = transforms.Compose([\n",
        "        transforms.RandomHorizontalFlip(),\n",
        "        transforms.RandomCrop(32, padding=4),\n",
        "        transforms.ToTensor(),\n",
        "        transforms.Normalize((0.4914, 0.4822, 0.4465), (0.2023, 0.1994, 0.2010))\n",
        "    ])\n",
        "    transform_test = transforms.Compose([\n",
        "        transforms.ToTensor(),\n",
        "        transforms.Normalize((0.4914, 0.4822, 0.4465), (0.2023, 0.1994, 0.2010))\n",
        "    ])\n",
        "\n",
        "    trainset = datasets.CIFAR100(root='./data', train=True, transform=transform_train, download=True)\n",
        "    testset = datasets.CIFAR100(root='./data', train=False, transform=transform_test, download=True)\n",
        "\n",
        "    class_images = defaultdict(list)\n",
        "    for img, label in trainset:\n",
        "        class_images[label].append(img)\n",
        "    for label, imgs in class_images.items():\n",
        "        class_images[label] = torch.stack(imgs)\n",
        "\n",
        "    trainloader = DataLoader(trainset, batch_size=batch_size, shuffle=True, num_workers=2)\n",
        "    testloader = DataLoader(testset, batch_size=batch_size, shuffle=False, num_workers=2)\n",
        "    return trainloader, testloader, class_images\n",
        "\n",
        "##########################\n",
        "# Train & Test\n",
        "##########################\n",
        "def train(model, train_loader, optimizer, criterion, class_images, device):\n",
        "    model.train()\n",
        "    running_loss = 0.0\n",
        "    correct = 0\n",
        "    total = 0\n",
        "    for images, labels in tqdm(train_loader, desc=\"Training\"):\n",
        "        prototypes = torch.stack([prepare_class_images(class_images, label.item(), model.num_class_images)\n",
        "                                  for label in labels]).to(device)\n",
        "\n",
        "        images = images.to(device)\n",
        "        labels = labels.to(device)\n",
        "\n",
        "        optimizer.zero_grad()\n",
        "        out_with_proto, out_cls = model(images, prototypes)\n",
        "\n",
        "        loss_proto = criterion(out_with_proto, labels)\n",
        "        loss_cls = criterion(out_cls, labels)\n",
        "        loss = loss_proto + loss_cls\n",
        "\n",
        "        loss.backward()\n",
        "        torch.nn.utils.clip_grad_norm_(model.parameters(), max_norm=1.0)\n",
        "        optimizer.step()\n",
        "\n",
        "        running_loss += loss.item()\n",
        "        _, predicted = torch.max(out_cls.data, 1)\n",
        "        total += labels.size(0)\n",
        "        correct += (predicted == labels).sum().item()\n",
        "\n",
        "    return running_loss / len(train_loader), 100 * correct / total\n",
        "\n",
        "def test(model, test_loader, criterion, device):\n",
        "    model.eval()\n",
        "    correct = 0\n",
        "    total = 0\n",
        "    running_test_loss = 0.0\n",
        "    with torch.no_grad():\n",
        "        for images, labels in tqdm(test_loader, desc=\"Testing\"):\n",
        "            images = images.to(device)\n",
        "            labels = labels.to(device)\n",
        "            outputs = model(images, class_images=None)\n",
        "            loss = criterion(outputs, labels)\n",
        "            running_test_loss += loss.item()\n",
        "            _, predicted = torch.max(outputs.data, 1)\n",
        "            total += labels.size(0)\n",
        "            correct += (predicted == labels).sum().item()\n",
        "    return running_test_loss / len(test_loader), 100 * correct / total\n",
        "\n",
        "##########################\n",
        "# Main\n",
        "##########################\n",
        "def main():\n",
        "    device = torch.device('cuda' if torch.cuda.is_available() else 'cpu')\n",
        "    trainloader, testloader, class_images = get_data_loaders()\n",
        "    model = ViT(img_size, n_channels, patch_size, d_model, num_heads, num_layers, num_classes, ff_dim, dropout)\n",
        "    model.to(device)\n",
        "    criterion = nn.CrossEntropyLoss()\n",
        "    optimizer = optim.AdamW(model.parameters(), lr=lr)\n",
        "\n",
        "    t_train_acc, t_test_acc, t_train_loss, t_test_loss = [], [], [], []\n",
        "\n",
        "    for epoch in range(num_epochs):\n",
        "        print(f'\\nEpoch {epoch+1}/{num_epochs}')\n",
        "        train_loss, train_accuracy = train(model, trainloader, optimizer, criterion, class_images, device)\n",
        "        print(f'Train Loss: {train_loss:.4f} | Train Acc: {train_accuracy:.2f}%')\n",
        "        test_loss, test_accuracy = test(model, testloader, criterion, device)\n",
        "        print(f'Test Loss : {test_loss:.4f} | Test Acc : {test_accuracy:.2f}%')\n",
        "\n",
        "        t_train_acc.append(train_accuracy)\n",
        "        t_test_acc.append(test_accuracy)\n",
        "        t_train_loss.append(train_loss)\n",
        "        t_test_loss.append(test_loss)\n",
        "\n",
        "    # Visualisation\n",
        "    fig, ax = plt.subplots(1, 2, figsize=(15, 5))\n",
        "    ax[0].plot(range(1, num_epochs + 1), t_train_loss, label='Train Loss', marker='o')\n",
        "    ax[0].plot(range(1, num_epochs + 1), t_test_loss, label='Test Loss', marker='o')\n",
        "    ax[0].legend()\n",
        "    ax[0].grid(True)\n",
        "    ax[1].plot(range(1, num_epochs + 1), t_train_acc, label='Train Acc', marker='o')\n",
        "    ax[1].plot(range(1, num_epochs + 1), t_test_acc, label='Test Acc', marker='o')\n",
        "    ax[1].legend()\n",
        "    ax[1].grid(True)\n",
        "    plt.tight_layout()\n",
        "    plt.show()\n",
        "\n",
        "    torch.save(model.state_dict(), 'model_state_dict.pth')\n",
        "    print(\"Model saved\")\n",
        "\n",
        "if __name__ == '__main__':\n",
        "    main()\n"
      ]
    }
  ],
  "metadata": {
    "accelerator": "GPU",
    "colab": {
      "gpuType": "T4",
      "provenance": []
    },
    "kernelspec": {
      "display_name": "Python 3",
      "name": "python3"
    },
    "language_info": {
      "name": "python"
    }
  },
  "nbformat": 4,
  "nbformat_minor": 0
}
