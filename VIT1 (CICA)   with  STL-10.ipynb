{
  "cells": [
    {
      "cell_type": "code",
      "execution_count": null,
      "metadata": {
        "execution": {
          "iopub.execute_input": "2025-07-19T13:26:57.922273Z",
          "iopub.status.busy": "2025-07-19T13:26:57.922029Z",
          "iopub.status.idle": "2025-07-19T13:57:48.553757Z",
          "shell.execute_reply": "2025-07-19T13:57:48.553028Z",
          "shell.execute_reply.started": "2025-07-19T13:26:57.922257Z"
        },
        "id": "jpuKdSDvASli",
        "outputId": "f89184f3-fab2-4771-dc18-3a356308a739",
        "trusted": true
      },
      "outputs": [
        {
          "name": "stdout",
          "output_type": "stream",
          "text": [
            "\n",
            "Epoch 1/10\n"
          ]
        },
        {
          "name": "stderr",
          "output_type": "stream",
          "text": [
            "Training       : 100%|██████████| 157/157 [02:58<00:00,  1.14s/it]\n"
          ]
        },
        {
          "name": "stdout",
          "output_type": "stream",
          "text": [
            "Train Loss     : 2.2200\n",
            "Train Accuracy : 22.66%\n"
          ]
        },
        {
          "name": "stderr",
          "output_type": "stream",
          "text": [
            "Testing        : 100%|██████████| 250/250 [00:04<00:00, 61.05it/s]\n"
          ]
        },
        {
          "name": "stdout",
          "output_type": "stream",
          "text": [
            "Test Loss      : 1.9006\n",
            "Test Accuracy  : 27.77%\n",
            "\n",
            "Epoch 2/10\n"
          ]
        },
        {
          "name": "stderr",
          "output_type": "stream",
          "text": [
            "Training       : 100%|██████████| 157/157 [02:58<00:00,  1.14s/it]\n"
          ]
        },
        {
          "name": "stdout",
          "output_type": "stream",
          "text": [
            "Train Loss     : 1.8822\n",
            "Train Accuracy : 28.44%\n"
          ]
        },
        {
          "name": "stderr",
          "output_type": "stream",
          "text": [
            "Testing        : 100%|██████████| 250/250 [00:04<00:00, 61.71it/s]\n"
          ]
        },
        {
          "name": "stdout",
          "output_type": "stream",
          "text": [
            "Test Loss      : 1.8301\n",
            "Test Accuracy  : 31.80%\n",
            "\n",
            "Epoch 3/10\n"
          ]
        },
        {
          "name": "stderr",
          "output_type": "stream",
          "text": [
            "Training       : 100%|██████████| 157/157 [02:59<00:00,  1.14s/it]\n"
          ]
        },
        {
          "name": "stdout",
          "output_type": "stream",
          "text": [
            "Train Loss     : 1.7877\n",
            "Train Accuracy : 33.12%\n"
          ]
        },
        {
          "name": "stderr",
          "output_type": "stream",
          "text": [
            "Testing        : 100%|██████████| 250/250 [00:03<00:00, 63.85it/s]\n"
          ]
        },
        {
          "name": "stdout",
          "output_type": "stream",
          "text": [
            "Test Loss      : 1.7349\n",
            "Test Accuracy  : 35.59%\n",
            "\n",
            "Epoch 4/10\n"
          ]
        },
        {
          "name": "stderr",
          "output_type": "stream",
          "text": [
            "Training       : 100%|██████████| 157/157 [02:59<00:00,  1.14s/it]\n"
          ]
        },
        {
          "name": "stdout",
          "output_type": "stream",
          "text": [
            "Train Loss     : 1.7277\n",
            "Train Accuracy : 35.20%\n"
          ]
        },
        {
          "name": "stderr",
          "output_type": "stream",
          "text": [
            "Testing        : 100%|██████████| 250/250 [00:04<00:00, 62.07it/s]\n"
          ]
        },
        {
          "name": "stdout",
          "output_type": "stream",
          "text": [
            "Test Loss      : 1.6763\n",
            "Test Accuracy  : 37.86%\n",
            "\n",
            "Epoch 5/10\n"
          ]
        },
        {
          "name": "stderr",
          "output_type": "stream",
          "text": [
            "Training       : 100%|██████████| 157/157 [02:58<00:00,  1.14s/it]\n"
          ]
        },
        {
          "name": "stdout",
          "output_type": "stream",
          "text": [
            "Train Loss     : 1.6506\n",
            "Train Accuracy : 38.72%\n"
          ]
        },
        {
          "name": "stderr",
          "output_type": "stream",
          "text": [
            "Testing        : 100%|██████████| 250/250 [00:03<00:00, 63.63it/s]\n"
          ]
        },
        {
          "name": "stdout",
          "output_type": "stream",
          "text": [
            "Test Loss      : 1.6473\n",
            "Test Accuracy  : 39.54%\n",
            "\n",
            "Epoch 6/10\n"
          ]
        },
        {
          "name": "stderr",
          "output_type": "stream",
          "text": [
            "Training       : 100%|██████████| 157/157 [02:59<00:00,  1.14s/it]\n"
          ]
        },
        {
          "name": "stdout",
          "output_type": "stream",
          "text": [
            "Train Loss     : 1.5897\n",
            "Train Accuracy : 40.34%\n"
          ]
        },
        {
          "name": "stderr",
          "output_type": "stream",
          "text": [
            "Testing        : 100%|██████████| 250/250 [00:03<00:00, 64.30it/s]\n"
          ]
        },
        {
          "name": "stdout",
          "output_type": "stream",
          "text": [
            "Test Loss      : 1.6286\n",
            "Test Accuracy  : 40.35%\n",
            "\n",
            "Epoch 7/10\n"
          ]
        },
        {
          "name": "stderr",
          "output_type": "stream",
          "text": [
            "Training       : 100%|██████████| 157/157 [02:59<00:00,  1.14s/it]\n"
          ]
        },
        {
          "name": "stdout",
          "output_type": "stream",
          "text": [
            "Train Loss     : 1.5558\n",
            "Train Accuracy : 42.26%\n"
          ]
        },
        {
          "name": "stderr",
          "output_type": "stream",
          "text": [
            "Testing        : 100%|██████████| 250/250 [00:04<00:00, 62.39it/s]\n"
          ]
        },
        {
          "name": "stdout",
          "output_type": "stream",
          "text": [
            "Test Loss      : 1.5802\n",
            "Test Accuracy  : 41.29%\n",
            "\n",
            "Epoch 8/10\n"
          ]
        },
        {
          "name": "stderr",
          "output_type": "stream",
          "text": [
            "Training       : 100%|██████████| 157/157 [02:58<00:00,  1.14s/it]\n"
          ]
        },
        {
          "name": "stdout",
          "output_type": "stream",
          "text": [
            "Train Loss     : 1.5077\n",
            "Train Accuracy : 44.60%\n"
          ]
        },
        {
          "name": "stderr",
          "output_type": "stream",
          "text": [
            "Testing        : 100%|██████████| 250/250 [00:03<00:00, 63.50it/s]\n"
          ]
        },
        {
          "name": "stdout",
          "output_type": "stream",
          "text": [
            "Test Loss      : 1.4996\n",
            "Test Accuracy  : 43.58%\n",
            "\n",
            "Epoch 9/10\n"
          ]
        },
        {
          "name": "stderr",
          "output_type": "stream",
          "text": [
            "Training       : 100%|██████████| 157/157 [02:58<00:00,  1.14s/it]\n"
          ]
        },
        {
          "name": "stdout",
          "output_type": "stream",
          "text": [
            "Train Loss     : 1.4729\n",
            "Train Accuracy : 45.12%\n"
          ]
        },
        {
          "name": "stderr",
          "output_type": "stream",
          "text": [
            "Testing        : 100%|██████████| 250/250 [00:04<00:00, 62.04it/s]\n"
          ]
        },
        {
          "name": "stdout",
          "output_type": "stream",
          "text": [
            "Test Loss      : 1.4635\n",
            "Test Accuracy  : 46.29%\n",
            "\n",
            "Epoch 10/10\n"
          ]
        },
        {
          "name": "stderr",
          "output_type": "stream",
          "text": [
            "Training       : 100%|██████████| 157/157 [02:58<00:00,  1.14s/it]\n"
          ]
        },
        {
          "name": "stdout",
          "output_type": "stream",
          "text": [
            "Train Loss     : 1.4378\n",
            "Train Accuracy : 46.54%\n"
          ]
        },
        {
          "name": "stderr",
          "output_type": "stream",
          "text": [
            "Testing        : 100%|██████████| 250/250 [00:03<00:00, 63.57it/s]\n"
          ]
        },
        {
          "name": "stdout",
          "output_type": "stream",
          "text": [
            "Test Loss      : 1.4865\n",
            "Test Accuracy  : 44.83%\n"
          ]
        },
        {
          "data": {
            "image/png": "[encoded data removed]",
            "text/plain": [
              "<Figure size 1500x500 with 2 Axes>"
            ]
          },
          "metadata": {},
          "output_type": "display_data"
        },
        {
          "name": "stdout",
          "output_type": "stream",
          "text": [
            "Model saved\n",
            "Done\n"
          ]
        }
      ],
      "source": [
        "import torch\n",
        "import torch.nn as nn\n",
        "import torch.optim as optim\n",
        "from torchvision import datasets, transforms\n",
        "from torch.utils.data import DataLoader\n",
        "from tqdm import tqdm\n",
        "from collections import defaultdict\n",
        "import matplotlib.pyplot as plt\n",
        "\n",
        "##########################\n",
        "# Configuration des hyperparamètres\n",
        "##########################\n",
        "\n",
        "# Configuration des hyperparamètres\n",
        "img_size = 96               # Taille des images CIFAR-10\n",
        "n_channels = 3              # Nombre de canaux (3 pour CIFAR-10)\n",
        "patch_size = 12             # Taille des patches, ajustée pour une meilleure performance sur CIFAR-10\n",
        "d_model = 256               # Dimension de l'embedding, augmentée pour une meilleure capacité d'apprentissage\n",
        "num_heads = 8               # Nombre de têtes dans l'attention multi-têtes, augmenté pour une meilleure modélisation\n",
        "num_layers = 6              # Nombre de couches du Transformer, ajusté pour une meilleure profondeur\n",
        "num_classes = 10           # Nombre de classes pour CIFAR-10\n",
        "ff_dim = 1024              # Dimension du feedforward network, augmentée pour une meilleure performance\n",
        "dropout = 0.2               # Taux de dropout, ajusté pour une meilleure généralisation\n",
        "\n",
        "#autre parametres\n",
        "lr = 1e-4                  # Taux d'apprentissage\n",
        "batch_size = 32             # Taille du lot\n",
        "num_epochs = 10            # Nombre d'époques\n",
        "\n",
        "\n",
        "num_class_images = 400     # Nombre d'images prototypes par classe (utilisé uniquement à l'entraînement)\n",
        "\n",
        "##########################\n",
        "# Modules du modèle\n",
        "##########################\n",
        "\n",
        "class PatchEmbedding(nn.Module):\n",
        "    def __init__(self, d_model, img_size, patch_size, n_channels):\n",
        "        super().__init__()\n",
        "        self.patch_embedding = nn.Conv2d(\n",
        "            in_channels=n_channels,\n",
        "            out_channels=d_model,\n",
        "            kernel_size=patch_size,\n",
        "            stride=patch_size\n",
        "        )\n",
        "\n",
        "    def forward(self, x):\n",
        "        # x shape: (N, C, H, W)\n",
        "        x = self.patch_embedding(x)           # (N, d_model, H/patch_size, W/patch_size)\n",
        "        x = x.flatten(2)                      # (N, d_model, num_patches)\n",
        "        x = x.transpose(1, 2)                 # (N, num_patches, d_model)\n",
        "        return x\n",
        "\n",
        "class IntraAttention(nn.Module):\n",
        "    def __init__(self, d_model, num_heads=8):\n",
        "        super(IntraAttention, self).__init__()\n",
        "        self.embed_dim = d_model\n",
        "        self.attention = nn.MultiheadAttention(d_model, num_heads=num_heads, batch_first=True)\n",
        "        self.projection = nn.Linear(96 * 96 * 3, d_model)  # Projection pour CIFAR-10\n",
        "\n",
        "    def forward(self, x, class_images):\n",
        "        batch_size = x.size(0)\n",
        "\n",
        "        # Mise en forme des images de la même classe\n",
        "        class_images = class_images.view(batch_size, -1, 96 * 96 * 3)  # (batch_size, num_images, flatten_dim)\n",
        "        class_images_proj = self.projection(class_images)  # (batch_size, num_images, d_model)\n",
        "\n",
        "        num_images_actual = class_images_proj.size(1)\n",
        "\n",
        "        # Assurer la compatibilité avec MultiheadAttention\n",
        "        x_proj = x.unsqueeze(1)  # (batch_size, 1, d_model)\n",
        "        attn_output, _ = self.attention(x_proj, class_images_proj, class_images_proj)\n",
        "\n",
        "        return attn_output#.squeeze(1)  # On enlève la dimension supplémentaire pour récupérer (batch_size, d_model)\n",
        "\n",
        "\n",
        "class ItraAttention(nn.Module):\n",
        "    def __init__(self, d_model, num_class_images=num_class_images, num_heads=8,\n",
        "                 img_size=96, patch_size=8, n_channels=3, ff_dim=762, dropout=0.1, num_layers=7):\n",
        "        \"\"\"\n",
        "        Pipeline pour extraire une représentation (prototype) à partir d'une image :\n",
        "          - Patch embedding (identique à celui du ViT)\n",
        "          - Ajout d’un token CLS dédié\n",
        "          - Ajout d’un embedding de position\n",
        "          - Passage par un Transformer Encoder (ici avec num_layers couches, par défaut 1)\n",
        "          - Extraction du token CLS en sortie\n",
        "        Puis, une attention multi-têtes permet d'obtenir une représentation finale\n",
        "        en se basant sur les prototypes issus des images prototypes d'une classe.\n",
        "        \"\"\"\n",
        "        super().__init__()\n",
        "        self.num_class_images = num_class_images\n",
        "        self.img_size = img_size\n",
        "        self.patch_size = patch_size\n",
        "\n",
        "        # Pipeline de type ViT pour extraire un prototype d'une image\n",
        "        self.patch_embedding = PatchEmbedding(d_model, img_size, patch_size, n_channels)\n",
        "        num_patches = (img_size // patch_size) ** 2\n",
        "        # Token CLS pour chaque image prototype\n",
        "        self.cls_token = nn.Parameter(torch.randn(1, 1, d_model))\n",
        "        # Embedding de position pour CLS + patches\n",
        "        self.position_embedding = nn.Parameter(torch.randn(1, num_patches + 1, d_model))\n",
        "        # Transformer encoder dédié à la représentation des prototypes\n",
        "        encoder_layer = nn.TransformerEncoderLayer(\n",
        "            d_model=d_model,\n",
        "            nhead=num_heads,\n",
        "            dim_feedforward=ff_dim,\n",
        "            dropout=dropout,\n",
        "            batch_first=True\n",
        "        )\n",
        "        self.transformer_encoder = nn.TransformerEncoder(encoder_layer, num_layers=num_layers)\n",
        "        # Attention multi-têtes pour combiner la représentation principale (token CLS du modèle)\n",
        "        # avec celle des prototypes\n",
        "        self.attention = nn.MultiheadAttention(d_model, num_heads, batch_first=True)\n",
        "\n",
        "    def forward(self, x, class_images):\n",
        "        \"\"\"\n",
        "        x: tensor de forme (batch, d_model) issu du token CLS du ViT principal.\n",
        "        class_images: tensor de forme (batch, num_class_images, 3, img_size, img_size)\n",
        "                      contenant les images prototypes pour chaque exemple.\n",
        "        \"\"\"\n",
        "        batch_size = class_images.size(0)\n",
        "        # Fusionner les dimensions batch et num_class_images pour traiter toutes les images prototypes simultanément\n",
        "        # Nouveau shape : (batch * num_class_images, 3, img_size, img_size)\n",
        "        class_images = class_images.view(batch_size * self.num_class_images,\n",
        "                                         class_images.size(2),\n",
        "                                         self.img_size,\n",
        "                                         self.img_size)\n",
        "        # Appliquer le patch embedding : (batch*num_class_images, num_patches, d_model)\n",
        "        patches = self.patch_embedding(class_images)\n",
        "        # Créer et répéter le token CLS pour chaque image prototype\n",
        "        cls_tokens = self.cls_token.repeat(patches.size(0), 1, 1)  # (batch*num_class_images, 1, d_model)\n",
        "        # Concaténer le token CLS aux patches\n",
        "        x_prototype = torch.cat([cls_tokens, patches], dim=1)  # (batch*num_class_images, num_patches+1, d_model)\n",
        "        # Ajouter l'embedding de position\n",
        "        x_prototype = x_prototype + self.position_embedding\n",
        "        # Passage dans le Transformer Encoder\n",
        "        x_prototype = self.transformer_encoder(x_prototype)  # (batch*num_class_images, num_patches+1, d_model)\n",
        "        # Extraire le token CLS comme représentation du prototype\n",
        "        prototypes = x_prototype[:, 0]  # (batch*num_class_images, d_model)\n",
        "        # Reshaper pour retrouver (batch, num_class_images, d_model)\n",
        "        prototypes = prototypes.view(batch_size, self.num_class_images, -1)\n",
        "        # Appliquer une attention multi-têtes : la requête est le token CLS du modèle principal\n",
        "        x_expanded = x.unsqueeze(1)  # (batch, 1, d_model)\n",
        "        attn_output, _ = self.attention(x_expanded, prototypes, prototypes)\n",
        "        # Retourner le vecteur (batch, d_model)\n",
        "        return attn_output.squeeze(1)\n",
        "\n",
        "class ViT(nn.Module):\n",
        "    def __init__(self, img_size, n_channels, patch_size, d_model, num_heads, num_layers,\n",
        "                 num_classes, ff_dim, dropout, num_class_images=num_class_images):\n",
        "        super(ViT, self).__init__()\n",
        "        self.num_class_images = num_class_images\n",
        "        self.patch_embedding = PatchEmbedding(d_model, img_size, patch_size, n_channels)\n",
        "        # Token CLS global\n",
        "        self.cls_token = nn.Parameter(torch.randn(1, 1, d_model))\n",
        "        # Embedding de position pour le token CLS et les patches\n",
        "        num_patches = (img_size // patch_size) ** 2\n",
        "        self.position_embedding = nn.Parameter(torch.randn(1, num_patches + 1, d_model))\n",
        "        # Transformer Encoder principal\n",
        "        encoder_layer = nn.TransformerEncoderLayer(\n",
        "            d_model=d_model,\n",
        "            nhead=num_heads,\n",
        "            dim_feedforward=ff_dim,\n",
        "            dropout=dropout,\n",
        "            batch_first=True\n",
        "        )\n",
        "        self.transformer_encoder = nn.TransformerEncoder(encoder_layer, num_layers=num_layers)\n",
        "        # Branche intra-attention avec le pipeline complet pour extraire des prototypes\n",
        "        self.intra_attn = IntraAttention(d_model)\n",
        "\n",
        "        self.dropout = nn.Dropout(dropout)\n",
        "        # Tête de classification combinée (CLS global + prototype)\n",
        "        self.fc = nn.Linear(d_model*2 , num_classes)\n",
        "        # Tête de classification utilisant uniquement le token CLS (pour l'inférence)\n",
        "        self.fc_cls = nn.Linear(d_model, num_classes)\n",
        "\n",
        "    def forward(self, x, class_images=None):\n",
        "        # x shape: (N, C, H, W)\n",
        "        N = x.shape[0]\n",
        "        x = self.patch_embedding(x)  # (N, num_patches, d_model)\n",
        "        cls_tokens = self.cls_token.repeat(N, 1, 1)  # (N, 1, d_model)\n",
        "        x = torch.cat((cls_tokens, x), dim=1)  # (N, num_patches+1, d_model)\n",
        "        x = x + self.position_embedding\n",
        "        x = self.transformer_encoder(x)\n",
        "        cls_out = x[:, 0]  # Token CLS global (N, d_model)\n",
        "\n",
        "        if class_images is not None:\n",
        "            # Utilise le pipeline intra-attention pour traiter les images prototypes\n",
        "            intra_out = self.intra_attn(cls_out, class_images)  # (N, d_model)\n",
        "            combined_out = torch.cat([cls_out, intra_out.mean(dim=1)], dim=1)  # (N, 2*d_model)\n",
        "            #combined_out = torch.cat([cls_out, intra_out], dim=1)  # (N, 2*d_model)\n",
        "\n",
        "            #combined_out = cls_out + intra_out  # (N, 2*d_model)\n",
        "\n",
        "            #combined_out = self.dropout(combined_out)\n",
        "            out_with_proto = self.fc(combined_out)\n",
        "        else:\n",
        "            out_with_proto = None\n",
        "\n",
        "        # Tête utilisant uniquement le token CLS\n",
        "        #cls_out = self.dropout(cls_out)\n",
        "        out_cls = self.fc_cls(cls_out)\n",
        "\n",
        "\n",
        "        if self.training:\n",
        "            # Pendant l'entraînement, retourner les deux sorties pour calculer une perte combinée\n",
        "            return out_with_proto, out_cls\n",
        "        else:\n",
        "            # En inférence, n'utiliser que la sortie de la tête CLS\n",
        "            return out_cls\n",
        "\n",
        "##############################\n",
        "# Fonctions auxiliaires et DataLoader\n",
        "##############################\n",
        "def repare_class_images(class_images_dict, label, num_class_images=num_class_images):\n",
        "    images = class_images_dict[label]\n",
        "    if len(images) < num_class_images:\n",
        "        repeat_factor = num_class_images // len(images) + 1\n",
        "        images = torch.cat([images] * repeat_factor)\n",
        "    # Shuffle the images\n",
        "    perm = torch.randperm(images.size(0))\n",
        "    images = images[perm]\n",
        "    return images[:num_class_images]\n",
        "\n",
        "def prepare_class_images(class_images_dict, label, num_class_images=num_class_images):\n",
        "    \"\"\"\n",
        "    Sélectionne des images prototypes pour une classe donnée.\n",
        "    Cette fonction utilise la vérité terrain et doit être utilisée UNIQUEMENT à l'entraînement.\n",
        "    \"\"\"\n",
        "    images = class_images_dict[label]\n",
        "    if len(images) < num_class_images:\n",
        "        repeat_factor = num_class_images // len(images) + 1\n",
        "        images = torch.cat([images] * repeat_factor)[:num_class_images]\n",
        "    return images[:num_class_images]\n",
        "\n",
        "def get_data_loaders(batch_size=batch_size):\n",
        "    transform_train = transforms.Compose([\n",
        "        transforms.RandomHorizontalFlip(),\n",
        "        transforms.RandomCrop(96, padding=4),\n",
        "        transforms.ToTensor(),\n",
        "        transforms.Normalize((0.5, 0.5, 0.5), (0.5, 0.5, 0.5))\n",
        "    ])\n",
        "    transform_test = transforms.Compose([\n",
        "        transforms.ToTensor(),\n",
        "        transforms.Normalize((0.5, 0.5, 0.5), (0.5, 0.5, 0.5))\n",
        "    ])\n",
        "    transform_class = transforms.Compose([\n",
        "        transforms.RandomHorizontalFlip(),\n",
        "        transforms.RandomCrop(96, padding=4),\n",
        "        transforms.ToTensor(),\n",
        "        transforms.Normalize((0.5, 0.5, 0.5), (0.5, 0.5, 0.5))\n",
        "    ])\n",
        "   # trainset = datasets.CIFAR100(root='./data', train=True, transform=transform_train, download=True)\n",
        "    #testset = datasets.CIFAR100(root='./data', train=False, transform=transform_test, download=True)\n",
        "\n",
        "    trainset = datasets.STL10(root='./data', split='train', transform=transform_train, download=True)\n",
        "    testset = datasets.STL10(root='./data', split='test', transform=transform_test, download=True)\n",
        "\n",
        "    trainset_class = datasets.STL10(root='./data', split='train', transform=transform_class, download=True)\n",
        "\n",
        "    # Dictionnaire des prototypes par classe\n",
        "    class_images = defaultdict(list)\n",
        "    for img, label in trainset_class:\n",
        "        class_images[label].append(img)\n",
        "    for label, imgs in class_images.items():\n",
        "        class_images[label] = torch.stack(imgs)\n",
        "\n",
        "    trainloader = DataLoader(trainset, batch_size=batch_size, shuffle=True, num_workers=2)\n",
        "    testloader = DataLoader(testset, batch_size=batch_size, shuffle=False, num_workers=2)\n",
        "    return trainloader, testloader, class_images\n",
        "\n",
        "##############################\n",
        "# Boucles d'entraînement et de test\n",
        "##############################\n",
        "\n",
        "def train(model, train_loader, optimizer, criterion, class_images, device):\n",
        "    model.train()\n",
        "    running_loss = 0.0\n",
        "    correct = 0\n",
        "    total = 0\n",
        "    for images, labels in tqdm(train_loader, desc=\"Training       \"):\n",
        "        # Préparation des prototypes (à partir de la vérité terrain – uniquement pour l'entraînement)\n",
        "        prototypes = torch.stack([prepare_class_images(class_images, label.item(), num_class_images)\n",
        "                                    for label in labels]).to(device)\n",
        "        images = images.to(device)\n",
        "        labels = labels.to(device)\n",
        "        optimizer.zero_grad()\n",
        "        out_with_proto, out_cls = model(images, prototypes)\n",
        "        # Calcul d'une perte combinée (somme des deux pertes)\n",
        "        loss_proto = criterion(out_with_proto, labels)\n",
        "        loss_cls = criterion(out_cls, labels)\n",
        "        loss = loss_proto + loss_cls\n",
        "        loss.backward()\n",
        "        torch.nn.utils.clip_grad_norm_(model.parameters(), max_norm=1.0)\n",
        "        optimizer.step()\n",
        "        running_loss += loss.item()\n",
        "        # Utilisation de la sortie de la tête CLS pour le calcul de la précision\n",
        "        _, predicted = torch.max(out_cls.data, 1)\n",
        "        total += labels.size(0)\n",
        "        correct += (predicted == labels).sum().item()\n",
        "    epoch_loss = running_loss / len(train_loader)\n",
        "    train_accuracy = 100 * correct / total\n",
        "    return epoch_loss, train_accuracy\n",
        "\n",
        "def test(model, test_loader, criterion, device):\n",
        "    model.eval()\n",
        "    correct = 0\n",
        "    total = 0\n",
        "    running_test_loss = 0.0\n",
        "    with torch.no_grad():\n",
        "        for images, labels in tqdm(test_loader, desc=\"Testing        \"):\n",
        "            images = images.to(device)\n",
        "            labels = labels.to(device)\n",
        "            # Pendant l'inférence, aucun prototype n'est fourni\n",
        "            outputs = model(images, class_images=None)\n",
        "            loss = criterion(outputs, labels)\n",
        "            running_test_loss += loss.item()\n",
        "            _, predicted = torch.max(outputs.data, 1)\n",
        "            total += labels.size(0)\n",
        "            correct += (predicted == labels).sum().item()\n",
        "    test_loss = running_test_loss / len(test_loader)\n",
        "    test_accuracy = 100 * correct / total\n",
        "    return test_loss, test_accuracy\n",
        "\n",
        "##############################\n",
        "# Fonction principale\n",
        "##############################\n",
        "\n",
        "def main():\n",
        "    device = torch.device('cuda' if torch.cuda.is_available() else 'cpu')\n",
        "    trainloader, testloader, class_images = get_data_loaders()\n",
        "    model = ViT(\n",
        "        img_size=img_size,\n",
        "        n_channels=n_channels,\n",
        "        patch_size=patch_size,\n",
        "        d_model=d_model,\n",
        "        num_heads=num_heads,\n",
        "        num_layers=num_layers,\n",
        "        num_classes=num_classes,\n",
        "        ff_dim=ff_dim,\n",
        "        dropout=dropout,\n",
        "        num_class_images=num_class_images\n",
        "    )\n",
        "    model.to(device)\n",
        "    criterion = nn.CrossEntropyLoss()\n",
        "    optimizer = optim.AdamW(model.parameters(), lr=lr)\n",
        "\n",
        "    t_train_acc = []\n",
        "    t_test_acc = []\n",
        "    t_train_loss = []\n",
        "    t_test_loss = []\n",
        "\n",
        "    for epoch in range(num_epochs):\n",
        "        print(f'\\nEpoch {epoch+1}/{num_epochs}')\n",
        "        train_loss, train_accuracy = train(model, trainloader, optimizer, criterion, class_images, device)\n",
        "        print(f'Train Loss     : {train_loss:.4f}')\n",
        "        print(f'Train Accuracy : {train_accuracy:.2f}%')\n",
        "        test_loss, test_accuracy = test(model, testloader, criterion, device)\n",
        "        print(f'Test Loss      : {test_loss:.4f}')\n",
        "        print(f'Test Accuracy  : {test_accuracy:.2f}%')\n",
        "\n",
        "        t_train_acc.append(train_accuracy)\n",
        "        t_test_acc.append(test_accuracy)\n",
        "        t_train_loss.append(train_loss)\n",
        "        t_test_loss.append(test_loss)\n",
        "\n",
        "    # Visualisation des courbes d'entraînement\n",
        "    fig, ax = plt.subplots(1, 2, figsize=(15, 5))\n",
        "    ax[0].plot(range(1, num_epochs + 1), t_train_loss, label='Perte d\\'entraînement', marker='o')\n",
        "    ax[0].plot(range(1, num_epochs + 1), t_test_loss, label='Perte de test', marker='o')\n",
        "    ax[0].set_xlabel('Époque')\n",
        "    ax[0].set_ylabel('Perte')\n",
        "    ax[0].set_title('Perte d\\'entraînement et de test')\n",
        "    ax[0].legend()\n",
        "    ax[0].grid(True)\n",
        "    ax[1].plot(range(1, num_epochs + 1), t_train_acc, label='Précision d\\'entraînement', marker='o')\n",
        "    ax[1].plot(range(1, num_epochs + 1), t_test_acc, label='Précision de test', marker='o')\n",
        "    ax[1].set_xlabel('Époque')\n",
        "    ax[1].set_ylabel('Précision')\n",
        "    ax[1].set_title('Précision d\\'entraînement et de test')\n",
        "    ax[1].legend()\n",
        "    ax[1].grid(True)\n",
        "    plt.tight_layout()\n",
        "    plt.show()\n",
        "\n",
        "    torch.save(model.state_dict(), 'model_state_dict.pth')\n",
        "    torch.save(model, 'model.pth')\n",
        "    print(\"Model saved\")\n",
        "    print(\"Done\")\n",
        "\n",
        "if __name__ == '__main__':\n",
        "    main()"
      ]
    }
  ],
  "metadata": {
    "colab": {
      "provenance": []
    },
    "kaggle": {
      "accelerator": "nvidiaTeslaT4",
      "dataSources": [],
      "dockerImageVersionId": 31090,
      "isGpuEnabled": true,
      "isInternetEnabled": true,
      "language": "python",
      "sourceType": "notebook"
    },
    "kernelspec": {
      "display_name": "Python 3",
      "language": "python",
      "name": "python3"
    },
    "language_info": {
      "codemirror_mode": {
        "name": "ipython",
        "version": 3
      },
      "file_extension": ".py",
      "mimetype": "text/x-python",
      "name": "python",
      "nbconvert_exporter": "python",
      "pygments_lexer": "ipython3",
      "version": "3.11.13"
    }
  },
  "nbformat": 4,
  "nbformat_minor": 0
}
