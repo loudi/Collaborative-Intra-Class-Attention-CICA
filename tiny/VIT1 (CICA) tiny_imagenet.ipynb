{
  "nbformat": 4,
  "nbformat_minor": 0,
  "metadata": {
    "colab": {
      "provenance": [],
      "gpuType": "T4"
    },
    "kernelspec": {
      "name": "python3",
      "display_name": "Python 3"
    },
    "language_info": {
      "name": "python"
    },
    "accelerator": "GPU"
  },
  "cells": [
    {
      "cell_type": "code",
      "execution_count": null,
      "metadata": {
        "colab": {
          "base_uri": "https://localhost:8080/"
        },
        "id": "70uY8noergqL",
        "outputId": "1dc85905-bc50-4721-b53f-393ad5639543"
      },
      "outputs": [
        {
          "output_type": "stream",
          "name": "stdout",
          "text": [
            "Dataset URL: https://www.kaggle.com/datasets/yukundiao/tinyimagenet\n",
            "License(s): unknown\n",
            "Downloading tinyimagenet.zip to /content/tinyimagenet\n",
            " 99% 232M/235M [00:00<00:00, 799MB/s] \n",
            "100% 235M/235M [00:00<00:00, 827MB/s]\n",
            "/content/tinyimagenet\n",
            "/content/tinyimagenet/tiny-imagenet-200\n",
            "/content/tinyimagenet/tiny-imagenet-200/words.txt\n",
            "/content/tinyimagenet/tiny-imagenet-200/test\n",
            "/content/tinyimagenet/tiny-imagenet-200/train\n",
            "/content/tinyimagenet/tiny-imagenet-200/wnids.txt\n",
            "/content/tinyimagenet/tiny-imagenet-200/val\n"
          ]
        }
      ],
      "source": [
        "\n",
        "# 3) Configure l'environnement\n",
        "!mkdir -p ~/.kaggle\n",
        "!cp kaggle.json ~/.kaggle/\n",
        "!chmod 600 ~/.kaggle/kaggle.json\n",
        "\n",
        "# 4) Télécharge et décompresse le dataset\n",
        "!kaggle datasets download -d yukundiao/tinyimagenet -p /content/tinyimagenet --unzip\n",
        "\n",
        "# 5) Vérifie la structure des fichiers\n",
        "!find /content/tinyimagenet -maxdepth 2 | head -n 20"
      ]
    },
    {
      "cell_type": "code",
      "source": [
        "import os\n",
        "import shutil\n",
        "\n",
        "val_dir = '/content/tinyimagenet/tiny-imagenet-200/val'\n",
        "images_dir = os.path.join(val_dir, 'images')\n",
        "annotations_file = os.path.join(val_dir, 'val_annotations.txt')\n",
        "\n",
        "# Crée les dossiers par classe\n",
        "with open(annotations_file, 'r') as f:\n",
        "    for line in f:\n",
        "        img, class_id = line.strip().split('\\t')[:2]\n",
        "        class_dir = os.path.join(val_dir, class_id)\n",
        "        os.makedirs(class_dir, exist_ok=True)\n",
        "        src = os.path.join(images_dir, img)\n",
        "        dst = os.path.join(class_dir, img)\n",
        "        shutil.move(src, dst)\n",
        "\n",
        "# Supprime le dossier images\n",
        "shutil.rmtree(images_dir)"
      ],
      "metadata": {
        "id": "GoWn7GudrnAa"
      },
      "execution_count": null,
      "outputs": []
    },
    {
      "cell_type": "code",
      "source": [
        "import torch\n",
        "import torch.nn as nn\n",
        "import torch.optim as optim\n",
        "from torchvision import transforms\n",
        "from torch.utils.data import DataLoader\n",
        "from tqdm import tqdm\n",
        "from collections import defaultdict\n",
        "import matplotlib.pyplot as plt\n",
        "import os\n",
        "from torchvision.datasets import ImageFolder\n",
        "\n",
        "# === Configuration ===\n",
        "img_size = 64\n",
        "n_channels = 3\n",
        "patch_size = 16\n",
        "d_model = 128\n",
        "num_heads = 4\n",
        "num_layers = 6\n",
        "num_classes = 200\n",
        "ff_dim = 384\n",
        "dropout = 0.1\n",
        "lr = 1e-4\n",
        "batch_size = 32\n",
        "num_epochs = 10           # Nombre d'époques\n",
        "num_class_images = 200\n",
        "warmup_ica_epoch =3\n",
        "##########################################\n",
        "# Patch Embedding\n",
        "##########################################\n",
        "\n",
        "class PatchEmbedding(nn.Module):\n",
        "    def __init__(self, img_size, patch_size, d_model, in_chans=3):\n",
        "        super().__init__()\n",
        "        self.proj = nn.Conv2d(in_chans, d_model, kernel_size=patch_size, stride=patch_size)\n",
        "        self.norm = nn.LayerNorm(d_model)\n",
        "\n",
        "    def forward(self, x):\n",
        "        x = self.proj(x)\n",
        "        x = x.flatten(2).transpose(1, 2)\n",
        "        return x\n",
        "\n",
        "##########################################\n",
        "# ICA avec α progressif\n",
        "##########################################\n",
        "class IntraClassAttention(nn.Module):\n",
        "    def __init__(self, dmodel=768, nheads=16, dropout=0.1):\n",
        "        super().__init__()\n",
        "        self.attn = nn.MultiheadAttention(dmodel, nheads, batch_first=True)\n",
        "        self.proto_norm = nn.LayerNorm(d_model)\n",
        "        self.dropout = nn.Dropout(dropout)\n",
        "\n",
        "        self.alpha = nn.Parameter(torch.tensor(-4.0))  # sigmoid(-4) ≈ 0.018\n",
        "\n",
        "    def forward(self, cls_token, proto_features, epoch, warmup_epoch):\n",
        "        warm_alpha = min(1.0, epoch / (warmup_epoch * 3))  # monte sur ~9 epochs\n",
        "        #warm_alpha = 1.0\n",
        "        alpha_scaled = torch.sigmoid(self.alpha) * warm_alpha\n",
        "\n",
        "        cls_expanded = cls_token.unsqueeze(1)\n",
        "        attn_out, _ = self.attn(cls_expanded, proto_features, proto_features)\n",
        "        mix = cls_token + alpha_scaled * self.dropout(attn_out.squeeze(1))\n",
        "        return mix\n",
        "\n",
        "##########################################\n",
        "# ViT avec ICA\n",
        "##########################################\n",
        "class ViT_ICA(nn.Module):\n",
        "    def __init__(self, img_size, patch_size, d_model, num_heads, num_layers, num_classes, ff_dim, dropout):\n",
        "        super().__init__()\n",
        "        self.patch_embed = PatchEmbedding(img_size, patch_size, d_model)\n",
        "        self.cls_token = nn.Parameter(torch.randn(1, 1, d_model))\n",
        "        num_patches = (img_size // patch_size) ** 2\n",
        "        self.pos_embed = nn.Parameter(torch.randn(1, num_patches + 1, d_model))\n",
        "\n",
        "        encoder_layer = nn.TransformerEncoderLayer(d_model, num_heads, ff_dim, dropout, batch_first=True)\n",
        "        self.encoder = nn.TransformerEncoder(encoder_layer, num_layers)\n",
        "\n",
        "        self.ica = IntraClassAttention(d_model, num_heads // 2  , dropout)\n",
        "        self.fc = nn.Linear(d_model, num_classes)\n",
        "        self.fc_combined = nn.Linear(d_model*2, num_classes)\n",
        "\n",
        "\n",
        "    def forward(self, x, proto_features=None, use_ica=True, epoch=0, warmup_epoch=3):\n",
        "        B = x.shape[0]\n",
        "        x = self.patch_embed(x)\n",
        "        cls_tokens = self.cls_token.expand(B, -1, -1)\n",
        "        x = torch.cat((cls_tokens, x), dim=1)\n",
        "        x = x + self.pos_embed\n",
        "        x = self.encoder(x)\n",
        "        cls_out = x[:, 0]\n",
        "\n",
        "        if self.training and proto_features is not None:\n",
        "            proto_out = self.ica(cls_out, proto_features, epoch, warmup_epoch)\n",
        "            combined_out = torch.cat([cls_out, proto_out], dim=1)\n",
        "            out_with_proto = self.fc_combined(combined_out)\n",
        "            out_cls = self.fc(cls_out)\n",
        "            #out = self.fc(proto_out) # Assuming 'out' is the output from proto_out\n",
        "\n",
        "            return  out_with_proto, out_cls\n",
        "        else:\n",
        "            #print(\"proto_features mta3 test\",proto_features)\n",
        "            return self.fc(cls_out)\n",
        "\n",
        "##########################################\n",
        "# Data Loaders\n",
        "##########################################\n",
        "def get_data_loaders():\n",
        "    #dataset_path = \"/kaggle/input/tinyimagenet/TinyImageNet\"\n",
        "    dataset_path = \"/content/tinyimagenet/tiny-imagenet-200\"\n",
        "\n",
        "    transform_train = transforms.Compose([\n",
        "        transforms.Resize((64, 64)),\n",
        "        transforms.RandomHorizontalFlip(),\n",
        "        transforms.ToTensor(),\n",
        "        transforms.Normalize([0.5]*3, [0.5]*3),\n",
        "    ])\n",
        "\n",
        "    transform_test = transforms.Compose([\n",
        "        transforms.Resize((64, 64)),\n",
        "        transforms.ToTensor(),\n",
        "        transforms.Normalize([0.5]*3, [0.5]*3),\n",
        "    ])\n",
        "\n",
        "    train_dataset = ImageFolder(os.path.join(dataset_path, \"train\"), transform=transform_train)\n",
        "    test_dataset = ImageFolder(os.path.join(dataset_path, \"val\"), transform=transform_test)\n",
        "    class_images = defaultdict(list)\n",
        "    for img, label in train_dataset:\n",
        "        class_images[label].append(img)\n",
        "    for label in class_images:\n",
        "        class_images[label] = torch.stack(class_images[label])\n",
        "    train_loader = DataLoader(train_dataset, batch_size=64, shuffle=True, num_workers=2)\n",
        "    test_loader = DataLoader(test_dataset, batch_size=64, shuffle=False, num_workers=2)\n",
        "    return train_loader, test_loader, class_images\n",
        "\n",
        "##########################################\n",
        "# ICA Prototype Features Extractor\n",
        "##########################################\n",
        "def get_proto_features(model, class_images, device):\n",
        "    model.eval()\n",
        "    proto_bank = {}\n",
        "    with torch.no_grad():\n",
        "       for c, imgs in class_images.items():\n",
        "            imgs = imgs.to(device)\n",
        "            feats = model.patch_embed(imgs)\n",
        "            cls_tok = model.cls_token.expand(imgs.size(0), -1, -1)\n",
        "            x = torch.cat((cls_tok, feats), dim=1) + model.pos_embed\n",
        "            enc = model.encoder(x)[:, 0]\n",
        "            proto_bank[c] = enc.mean(dim=0, keepdim=True)\n",
        "    return proto_bank\n",
        "\n",
        "##########################################\n",
        "# Train & Test\n",
        "##########################################\n",
        "def train_epoch(model, loader, optimizer, criterion, proto_bank, device, epoch):\n",
        "    model.train()\n",
        "    total_loss, correct, total = 0, 0, 0\n",
        "    for images, labels in tqdm(loader, desc=\"Training       \"):\n",
        "    #for imgs, labels in tqdm(loader, desc=f\"Train {epoch}\"):\n",
        "        images, labels = images.to(device), labels.to(device)\n",
        "        proto_features = torch.stack([proto_bank[l.item()] for l in labels]).to(device)\n",
        "        use_ica = epoch >= warmup_ica_epoch\n",
        "        optimizer.zero_grad()\n",
        "\n",
        "        out_with_proto, out_cls = model(images, proto_features, use_ica, epoch, warmup_ica_epoch)\n",
        "\n",
        "        loss_proto = criterion(out_with_proto, labels)\n",
        "        loss_cls = criterion(out_cls, labels)\n",
        "        loss =  loss_cls +  loss_proto\n",
        "\n",
        "        loss.backward()\n",
        "\n",
        "        optimizer.step()\n",
        "        total_loss += loss.item()\n",
        "        correct += (out_cls.argmax(1) == labels).sum().item()\n",
        "        total += labels.size(0)\n",
        "    return total_loss / len(loader), 100 * correct / total\n",
        "\n",
        "\n",
        "def test_epoch(model, loader, criterion, device):\n",
        "    model.eval()\n",
        "    total_loss, correct, total = 0, 0, 0\n",
        "    with torch.no_grad():\n",
        "        for images, labels in tqdm(loader, desc=\"Testing        \"):\n",
        "        #for imgs, labels in tqdm(loader, desc=\"Test\"):\n",
        "            images, labels = images.to(device), labels.to(device)\n",
        "            outputs = model(images, use_ica=False)  # ICA désactivée au test\n",
        "            loss = criterion(outputs, labels)\n",
        "\n",
        "            total_loss += loss.item()\n",
        "            correct += (outputs.argmax(1) == labels).sum().item()\n",
        "            total += labels.size(0)\n",
        "    return total_loss / len(loader), 100 * correct / total\n",
        "\n",
        "##########################################\n",
        "# Main\n",
        "##########################################\n",
        "def main():\n",
        "    device = torch.device(\"cuda\" if torch.cuda.is_available() else \"cpu\")\n",
        "    train_loader, test_loader, class_images = get_data_loaders()\n",
        "\n",
        "    model = ViT_ICA(img_size, patch_size, d_model, num_heads, num_layers, num_classes, ff_dim, dropout).to(device)\n",
        "    optimizer = optim.AdamW(model.parameters(), lr=lr)\n",
        "    criterion = nn.CrossEntropyLoss()\n",
        "\n",
        "\n",
        "\n",
        "    t_train_acc = []\n",
        "    t_test_acc = []\n",
        "    t_train_loss = []\n",
        "    t_test_loss = []\n",
        "    best_acc = 0\n",
        "    for epoch in range(num_epochs):\n",
        "        proto_bank = get_proto_features(model, class_images, device)\n",
        "\n",
        "        print(f'\\nEpoch {epoch+1}/{num_epochs}')\n",
        "        train_loss, train_acc = train_epoch(model, train_loader, optimizer, criterion, proto_bank, device, epoch)\n",
        "        print(f'Train Loss     : {train_loss:.4f}')\n",
        "        print(f'Train Accuracy : {train_acc:.2f}%')\n",
        "        test_loss, test_acc = test_epoch(model, test_loader, criterion, device)\n",
        "        print(f'Test Loss      : {test_loss:.4f}')\n",
        "        print(f'Test Accuracy  : {test_acc:.2f}%')\n",
        "\n",
        "        #print(f\"Epoch {epoch+1}: Train Acc={train_acc:.2f}%, Test Acc={test_acc:.2f}%\")\n",
        "\n",
        "        if test_acc > best_acc:\n",
        "            best_acc = test_acc\n",
        "            torch.save(model.state_dict(), \"best_vit_ica.pth\")\n",
        "            print(\"✅ Nouveau meilleur modèle sauvegardé\")\n",
        "\n",
        "\n",
        "\n",
        "        t_train_acc.append(train_acc)\n",
        "        t_test_acc.append(test_acc)\n",
        "        t_train_loss.append(train_loss)\n",
        "        t_test_loss.append(test_loss)\n",
        "\n",
        "    print(f\"Best Test Accuracy: {best_acc:.2f}%\")\n",
        "    # Visualisation des pertes et des précisions\n",
        "    fig, ax = plt.subplots(1, 2, figsize=(15, 5))\n",
        "\n",
        "    # Tracé de la perte\n",
        "    ax[0].plot(range(1, num_epochs + 1), t_train_loss, label='Training Loss', marker='o')\n",
        "    ax[0].plot(range(1, num_epochs + 1), t_test_loss, label='Test Loss', marker='o')\n",
        "    ax[0].set_xlabel('Epoch')\n",
        "    ax[0].set_ylabel('Loss')\n",
        "    ax[0].set_title('Training Loss and Test Loss')\n",
        "    ax[0].legend()\n",
        "    ax[0].grid(True)\n",
        "\n",
        "    # Tracé de la précision\n",
        "    ax[1].plot(range(1, num_epochs + 1), t_train_acc, label='Training Accuracy', marker='o')\n",
        "    ax[1].plot(range(1, num_epochs + 1), t_test_acc, label='Test Accuracy', marker='o')\n",
        "    ax[1].set_xlabel('Epoch')\n",
        "    ax[1].set_ylabel('Accuracy')\n",
        "    ax[1].set_title('Training Accuracy and Test Accuracy')\n",
        "    ax[1].legend()\n",
        "    ax[1].grid(True)\n",
        "\n",
        "    plt.tight_layout()\n",
        "    plt.show()\n",
        "\n",
        "    torch.save(model.state_dict(), 'model_state_dict.pth')\n",
        "    torch.save(model, 'model.pth')\n",
        "    print(\"Model saved\")\n",
        "    print(\"Done\")\n",
        "\n",
        "\n",
        "if __name__ == '__main__':\n",
        "    main()"
      ],
      "metadata": {
        "colab": {
          "base_uri": "https://localhost:8080/",
          "height": 1000
        },
        "id": "GORG9LZ6sPW-",
        "outputId": "08b9605e-ddd8-4c88-bf90-8de1621ab859"
      },
      "execution_count": null,
      "outputs": [
        {
          "output_type": "stream",
          "name": "stdout",
          "text": [
            "\n",
            "Epoch 1/10\n"
          ]
        },
        {
          "output_type": "stream",
          "name": "stderr",
          "text": [
            "Training       : 100%|██████████| 1563/1563 [01:18<00:00, 19.83it/s]\n"
          ]
        },
        {
          "output_type": "stream",
          "name": "stdout",
          "text": [
            "Train Loss     : 9.9578\n",
            "Train Accuracy : 2.96%\n"
          ]
        },
        {
          "output_type": "stream",
          "name": "stderr",
          "text": [
            "Testing        : 100%|██████████| 157/157 [00:07<00:00, 21.68it/s]\n"
          ]
        },
        {
          "output_type": "stream",
          "name": "stdout",
          "text": [
            "Test Loss      : 4.7670\n",
            "Test Accuracy  : 4.87%\n",
            "✅ Nouveau meilleur modèle sauvegardé\n",
            "\n",
            "Epoch 2/10\n"
          ]
        },
        {
          "output_type": "stream",
          "name": "stderr",
          "text": [
            "Training       : 100%|██████████| 1563/1563 [01:18<00:00, 19.90it/s]\n"
          ]
        },
        {
          "output_type": "stream",
          "name": "stdout",
          "text": [
            "Train Loss     : 9.1252\n",
            "Train Accuracy : 6.38%\n"
          ]
        },
        {
          "output_type": "stream",
          "name": "stderr",
          "text": [
            "Testing        : 100%|██████████| 157/157 [00:05<00:00, 27.51it/s]\n"
          ]
        },
        {
          "output_type": "stream",
          "name": "stdout",
          "text": [
            "Test Loss      : 4.4965\n",
            "Test Accuracy  : 7.97%\n",
            "✅ Nouveau meilleur modèle sauvegardé\n",
            "\n",
            "Epoch 3/10\n"
          ]
        },
        {
          "output_type": "stream",
          "name": "stderr",
          "text": [
            "Training       : 100%|██████████| 1563/1563 [01:18<00:00, 19.93it/s]\n"
          ]
        },
        {
          "output_type": "stream",
          "name": "stdout",
          "text": [
            "Train Loss     : 7.7275\n",
            "Train Accuracy : 8.99%\n"
          ]
        },
        {
          "output_type": "stream",
          "name": "stderr",
          "text": [
            "Testing        : 100%|██████████| 157/157 [00:05<00:00, 31.06it/s]\n"
          ]
        },
        {
          "output_type": "stream",
          "name": "stdout",
          "text": [
            "Test Loss      : 4.3467\n",
            "Test Accuracy  : 10.07%\n",
            "✅ Nouveau meilleur modèle sauvegardé\n",
            "\n",
            "Epoch 4/10\n"
          ]
        },
        {
          "output_type": "stream",
          "name": "stderr",
          "text": [
            "Training       : 100%|██████████| 1563/1563 [01:18<00:00, 20.03it/s]\n"
          ]
        },
        {
          "output_type": "stream",
          "name": "stdout",
          "text": [
            "Train Loss     : 6.5084\n",
            "Train Accuracy : 10.96%\n"
          ]
        },
        {
          "output_type": "stream",
          "name": "stderr",
          "text": [
            "Testing        : 100%|██████████| 157/157 [00:04<00:00, 33.19it/s]\n"
          ]
        },
        {
          "output_type": "stream",
          "name": "stdout",
          "text": [
            "Test Loss      : 4.2192\n",
            "Test Accuracy  : 11.44%\n",
            "✅ Nouveau meilleur modèle sauvegardé\n",
            "\n",
            "Epoch 5/10\n"
          ]
        },
        {
          "output_type": "stream",
          "name": "stderr",
          "text": [
            "Training       : 100%|██████████| 1563/1563 [01:18<00:00, 19.95it/s]\n"
          ]
        },
        {
          "output_type": "stream",
          "name": "stdout",
          "text": [
            "Train Loss     : 5.5465\n",
            "Train Accuracy : 12.27%\n"
          ]
        },
        {
          "output_type": "stream",
          "name": "stderr",
          "text": [
            "Testing        : 100%|██████████| 157/157 [00:04<00:00, 33.78it/s]\n"
          ]
        },
        {
          "output_type": "stream",
          "name": "stdout",
          "text": [
            "Test Loss      : 4.1343\n",
            "Test Accuracy  : 12.30%\n",
            "✅ Nouveau meilleur modèle sauvegardé\n",
            "\n",
            "Epoch 6/10\n"
          ]
        },
        {
          "output_type": "stream",
          "name": "stderr",
          "text": [
            "Training       : 100%|██████████| 1563/1563 [01:18<00:00, 20.01it/s]\n"
          ]
        },
        {
          "output_type": "stream",
          "name": "stdout",
          "text": [
            "Train Loss     : 4.8888\n",
            "Train Accuracy : 13.41%\n"
          ]
        },
        {
          "output_type": "stream",
          "name": "stderr",
          "text": [
            "Testing        : 100%|██████████| 157/157 [00:05<00:00, 27.92it/s]\n"
          ]
        },
        {
          "output_type": "stream",
          "name": "stdout",
          "text": [
            "Test Loss      : 4.0528\n",
            "Test Accuracy  : 13.50%\n",
            "✅ Nouveau meilleur modèle sauvegardé\n",
            "\n",
            "Epoch 7/10\n"
          ]
        },
        {
          "output_type": "stream",
          "name": "stderr",
          "text": [
            "Training       : 100%|██████████| 1563/1563 [01:18<00:00, 19.96it/s]\n"
          ]
        },
        {
          "output_type": "stream",
          "name": "stdout",
          "text": [
            "Train Loss     : 4.4822\n",
            "Train Accuracy : 14.62%\n"
          ]
        },
        {
          "output_type": "stream",
          "name": "stderr",
          "text": [
            "Testing        : 100%|██████████| 157/157 [00:05<00:00, 26.52it/s]\n"
          ]
        },
        {
          "output_type": "stream",
          "name": "stdout",
          "text": [
            "Test Loss      : 3.9852\n",
            "Test Accuracy  : 14.25%\n",
            "✅ Nouveau meilleur modèle sauvegardé\n",
            "\n",
            "Epoch 8/10\n"
          ]
        },
        {
          "output_type": "stream",
          "name": "stderr",
          "text": [
            "Training       : 100%|██████████| 1563/1563 [01:19<00:00, 19.59it/s]\n"
          ]
        },
        {
          "output_type": "stream",
          "name": "stdout",
          "text": [
            "Train Loss     : 4.1852\n",
            "Train Accuracy : 15.54%\n"
          ]
        },
        {
          "output_type": "stream",
          "name": "stderr",
          "text": [
            "Testing        : 100%|██████████| 157/157 [00:05<00:00, 27.46it/s]\n"
          ]
        },
        {
          "output_type": "stream",
          "name": "stdout",
          "text": [
            "Test Loss      : 3.9364\n",
            "Test Accuracy  : 15.45%\n",
            "✅ Nouveau meilleur modèle sauvegardé\n",
            "\n",
            "Epoch 9/10\n"
          ]
        },
        {
          "output_type": "stream",
          "name": "stderr",
          "text": [
            "Training       : 100%|██████████| 1563/1563 [01:17<00:00, 20.11it/s]\n"
          ]
        },
        {
          "output_type": "stream",
          "name": "stdout",
          "text": [
            "Train Loss     : 4.0522\n",
            "Train Accuracy : 16.34%\n"
          ]
        },
        {
          "output_type": "stream",
          "name": "stderr",
          "text": [
            "Testing        : 100%|██████████| 157/157 [00:05<00:00, 28.02it/s]\n"
          ]
        },
        {
          "output_type": "stream",
          "name": "stdout",
          "text": [
            "Test Loss      : 3.8902\n",
            "Test Accuracy  : 16.60%\n",
            "✅ Nouveau meilleur modèle sauvegardé\n",
            "\n",
            "Epoch 10/10\n"
          ]
        },
        {
          "output_type": "stream",
          "name": "stderr",
          "text": [
            "Training       : 100%|██████████| 1563/1563 [01:18<00:00, 19.99it/s]\n"
          ]
        },
        {
          "output_type": "stream",
          "name": "stdout",
          "text": [
            "Train Loss     : 3.9659\n",
            "Train Accuracy : 17.22%\n"
          ]
        },
        {
          "output_type": "stream",
          "name": "stderr",
          "text": [
            "Testing        : 100%|██████████| 157/157 [00:04<00:00, 33.71it/s]\n"
          ]
        },
        {
          "output_type": "stream",
          "name": "stdout",
          "text": [
            "Test Loss      : 3.8480\n",
            "Test Accuracy  : 16.94%\n",
            "✅ Nouveau meilleur modèle sauvegardé\n",
            "Best Test Accuracy: 16.94%\n"
          ]
        },
        {
          "output_type": "display_data",
          "data": {
            "text/plain": [
              "<Figure size 1500x500 with 2 Axes>"
            ],
            "image/png": "[encoded data removed]"
          },
          "metadata": {}
        },
        {
          "output_type": "stream",
          "name": "stdout",
          "text": [
            "Model saved\n",
            "Done\n"
          ]
        }
      ]
    }
  ]
}