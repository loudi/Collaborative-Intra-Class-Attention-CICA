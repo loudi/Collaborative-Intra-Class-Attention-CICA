{
  "cells": [
    {
      "cell_type": "code",
      "execution_count": null,
      "metadata": {
        "colab": {
          "base_uri": "https://localhost:8080/"
        },
        "id": "TEz38yruL236",
        "outputId": "0540e44b-ea4f-4209-8a5a-6ef276966067"
      },
      "outputs": [
        {
          "output_type": "stream",
          "name": "stdout",
          "text": [
            "Dataset URL: https://www.kaggle.com/datasets/yukundiao/tinyimagenet\n",
            "License(s): unknown\n",
            "Downloading tinyimagenet.zip to /content/tinyimagenet\n",
            " 56% 132M/235M [00:00<00:00, 1.38GB/s]\n",
            "100% 235M/235M [00:00<00:00, 1.42GB/s]\n",
            "/content/tinyimagenet\n",
            "/content/tinyimagenet/tiny-imagenet-200\n",
            "/content/tinyimagenet/tiny-imagenet-200/wnids.txt\n",
            "/content/tinyimagenet/tiny-imagenet-200/words.txt\n",
            "/content/tinyimagenet/tiny-imagenet-200/test\n",
            "/content/tinyimagenet/tiny-imagenet-200/train\n",
            "/content/tinyimagenet/tiny-imagenet-200/val\n"
          ]
        }
      ],
      "source": [
        "\n",
        "# 3) Configure l'environnement\n",
        "!mkdir -p ~/.kaggle\n",
        "!cp kaggle.json ~/.kaggle/\n",
        "!chmod 600 ~/.kaggle/kaggle.json\n",
        "\n",
        "# 4) Télécharge et décompresse le dataset\n",
        "!kaggle datasets download -d yukundiao/tinyimagenet -p /content/tinyimagenet --unzip\n",
        "\n",
        "# 5) Vérifie la structure des fichiers\n",
        "!find /content/tinyimagenet -maxdepth 2 | head -n 20"
      ]
    },
    {
      "cell_type": "code",
      "execution_count": null,
      "metadata": {
        "id": "mLvPsOSEMFIF"
      },
      "outputs": [],
      "source": [
        "import os\n",
        "import shutil\n",
        "\n",
        "val_dir = '/content/tinyimagenet/tiny-imagenet-200/val'\n",
        "images_dir = os.path.join(val_dir, 'images')\n",
        "annotations_file = os.path.join(val_dir, 'val_annotations.txt')\n",
        "\n",
        "# Crée les dossiers par classe\n",
        "with open(annotations_file, 'r') as f:\n",
        "    for line in f:\n",
        "        img, class_id = line.strip().split('\\t')[:2]\n",
        "        class_dir = os.path.join(val_dir, class_id)\n",
        "        os.makedirs(class_dir, exist_ok=True)\n",
        "        src = os.path.join(images_dir, img)\n",
        "        dst = os.path.join(class_dir, img)\n",
        "        shutil.move(src, dst)\n",
        "\n",
        "# Supprime le dossier images\n",
        "shutil.rmtree(images_dir)"
      ]
    },
    {
      "cell_type": "code",
      "execution_count": null,
      "metadata": {
        "colab": {
          "base_uri": "https://localhost:8080/",
          "height": 1000
        },
        "id": "qbyoz1fpLnpH",
        "outputId": "d23920b3-4065-4cac-df84-9c9770759bbc"
      },
      "outputs": [
        {
          "output_type": "stream",
          "name": "stdout",
          "text": [
            "\n",
            "Epoch 1/10\n"
          ]
        },
        {
          "output_type": "stream",
          "name": "stderr",
          "text": [
            "Training       : 100%|██████████| 1563/1563 [00:31<00:00, 49.23it/s]\n"
          ]
        },
        {
          "output_type": "stream",
          "name": "stdout",
          "text": [
            "Train Loss     : 5.0221\n",
            "Train Accuracy : 2.78%\n"
          ]
        },
        {
          "output_type": "stream",
          "name": "stderr",
          "text": [
            "Testing        : 100%|██████████| 157/157 [00:02<00:00, 55.51it/s]\n"
          ]
        },
        {
          "output_type": "stream",
          "name": "stdout",
          "text": [
            "Test Loss      : 4.7755\n",
            "Test Accuracy  : 5.08%\n",
            "\n",
            "Epoch 2/10\n"
          ]
        },
        {
          "output_type": "stream",
          "name": "stderr",
          "text": [
            "Training       : 100%|██████████| 1563/1563 [00:30<00:00, 50.98it/s]\n"
          ]
        },
        {
          "output_type": "stream",
          "name": "stdout",
          "text": [
            "Train Loss     : 4.7077\n",
            "Train Accuracy : 5.56%\n"
          ]
        },
        {
          "output_type": "stream",
          "name": "stderr",
          "text": [
            "Testing        : 100%|██████████| 157/157 [00:02<00:00, 58.73it/s]\n"
          ]
        },
        {
          "output_type": "stream",
          "name": "stdout",
          "text": [
            "Test Loss      : 4.5420\n",
            "Test Accuracy  : 7.72%\n",
            "\n",
            "Epoch 3/10\n"
          ]
        },
        {
          "output_type": "stream",
          "name": "stderr",
          "text": [
            "Training       : 100%|██████████| 1563/1563 [00:30<00:00, 50.47it/s]\n"
          ]
        },
        {
          "output_type": "stream",
          "name": "stdout",
          "text": [
            "Train Loss     : 4.4915\n",
            "Train Accuracy : 7.89%\n"
          ]
        },
        {
          "output_type": "stream",
          "name": "stderr",
          "text": [
            "Testing        : 100%|██████████| 157/157 [00:02<00:00, 57.80it/s]\n"
          ]
        },
        {
          "output_type": "stream",
          "name": "stdout",
          "text": [
            "Test Loss      : 4.3756\n",
            "Test Accuracy  : 9.46%\n",
            "\n",
            "Epoch 4/10\n"
          ]
        },
        {
          "output_type": "stream",
          "name": "stderr",
          "text": [
            "Training       : 100%|██████████| 1563/1563 [00:31<00:00, 50.04it/s]\n"
          ]
        },
        {
          "output_type": "stream",
          "name": "stdout",
          "text": [
            "Train Loss     : 4.3319\n",
            "Train Accuracy : 10.03%\n"
          ]
        },
        {
          "output_type": "stream",
          "name": "stderr",
          "text": [
            "Testing        : 100%|██████████| 157/157 [00:02<00:00, 54.08it/s]\n"
          ]
        },
        {
          "output_type": "stream",
          "name": "stdout",
          "text": [
            "Test Loss      : 4.2416\n",
            "Test Accuracy  : 11.09%\n",
            "\n",
            "Epoch 5/10\n"
          ]
        },
        {
          "output_type": "stream",
          "name": "stderr",
          "text": [
            "Training       : 100%|██████████| 1563/1563 [00:31<00:00, 49.24it/s]\n"
          ]
        },
        {
          "output_type": "stream",
          "name": "stdout",
          "text": [
            "Train Loss     : 4.2185\n",
            "Train Accuracy : 11.36%\n"
          ]
        },
        {
          "output_type": "stream",
          "name": "stderr",
          "text": [
            "Testing        : 100%|██████████| 157/157 [00:02<00:00, 56.80it/s]\n"
          ]
        },
        {
          "output_type": "stream",
          "name": "stdout",
          "text": [
            "Test Loss      : 4.1544\n",
            "Test Accuracy  : 12.26%\n",
            "\n",
            "Epoch 6/10\n"
          ]
        },
        {
          "output_type": "stream",
          "name": "stderr",
          "text": [
            "Training       : 100%|██████████| 1563/1563 [00:31<00:00, 50.11it/s]\n"
          ]
        },
        {
          "output_type": "stream",
          "name": "stdout",
          "text": [
            "Train Loss     : 4.1276\n",
            "Train Accuracy : 12.69%\n"
          ]
        },
        {
          "output_type": "stream",
          "name": "stderr",
          "text": [
            "Testing        : 100%|██████████| 157/157 [00:02<00:00, 56.93it/s]\n"
          ]
        },
        {
          "output_type": "stream",
          "name": "stdout",
          "text": [
            "Test Loss      : 4.0803\n",
            "Test Accuracy  : 13.33%\n",
            "\n",
            "Epoch 7/10\n"
          ]
        },
        {
          "output_type": "stream",
          "name": "stderr",
          "text": [
            "Training       : 100%|██████████| 1563/1563 [00:30<00:00, 50.52it/s]\n"
          ]
        },
        {
          "output_type": "stream",
          "name": "stdout",
          "text": [
            "Train Loss     : 4.0488\n",
            "Train Accuracy : 13.75%\n"
          ]
        },
        {
          "output_type": "stream",
          "name": "stderr",
          "text": [
            "Testing        : 100%|██████████| 157/157 [00:02<00:00, 56.02it/s]\n"
          ]
        },
        {
          "output_type": "stream",
          "name": "stdout",
          "text": [
            "Test Loss      : 4.0216\n",
            "Test Accuracy  : 14.16%\n",
            "\n",
            "Epoch 8/10\n"
          ]
        },
        {
          "output_type": "stream",
          "name": "stderr",
          "text": [
            "Training       : 100%|██████████| 1563/1563 [00:30<00:00, 51.14it/s]\n"
          ]
        },
        {
          "output_type": "stream",
          "name": "stdout",
          "text": [
            "Train Loss     : 3.9853\n",
            "Train Accuracy : 14.72%\n"
          ]
        },
        {
          "output_type": "stream",
          "name": "stderr",
          "text": [
            "Testing        : 100%|██████████| 157/157 [00:02<00:00, 56.40it/s]\n"
          ]
        },
        {
          "output_type": "stream",
          "name": "stdout",
          "text": [
            "Test Loss      : 3.9745\n",
            "Test Accuracy  : 14.67%\n",
            "\n",
            "Epoch 9/10\n"
          ]
        },
        {
          "output_type": "stream",
          "name": "stderr",
          "text": [
            "Training       : 100%|██████████| 1563/1563 [00:30<00:00, 50.98it/s]\n"
          ]
        },
        {
          "output_type": "stream",
          "name": "stdout",
          "text": [
            "Train Loss     : 3.9278\n",
            "Train Accuracy : 15.48%\n"
          ]
        },
        {
          "output_type": "stream",
          "name": "stderr",
          "text": [
            "Testing        : 100%|██████████| 157/157 [00:02<00:00, 56.16it/s]\n"
          ]
        },
        {
          "output_type": "stream",
          "name": "stdout",
          "text": [
            "Test Loss      : 3.9276\n",
            "Test Accuracy  : 15.03%\n",
            "\n",
            "Epoch 10/10\n"
          ]
        },
        {
          "output_type": "stream",
          "name": "stderr",
          "text": [
            "Training       : 100%|██████████| 1563/1563 [00:31<00:00, 50.12it/s]\n"
          ]
        },
        {
          "output_type": "stream",
          "name": "stdout",
          "text": [
            "Train Loss     : 3.8772\n",
            "Train Accuracy : 16.28%\n"
          ]
        },
        {
          "output_type": "stream",
          "name": "stderr",
          "text": [
            "Testing        : 100%|██████████| 157/157 [00:02<00:00, 55.79it/s]\n"
          ]
        },
        {
          "output_type": "stream",
          "name": "stdout",
          "text": [
            "Test Loss      : 3.8870\n",
            "Test Accuracy  : 15.81%\n"
          ]
        },
        {
          "output_type": "display_data",
          "data": {
            "text/plain": [
              "<Figure size 1500x500 with 2 Axes>"
            ],
            "image/png": "[encoded data removed]"
          },
          "metadata": {}
        },
        {
          "output_type": "stream",
          "name": "stdout",
          "text": [
            "Model saved\n",
            "Done\n"
          ]
        }
      ],
      "source": [
        "import torch\n",
        "import torch.nn as nn\n",
        "import torch.optim as optim\n",
        "from torchvision import transforms\n",
        "from torch.utils.data import DataLoader\n",
        "from tqdm import tqdm\n",
        "from collections import defaultdict\n",
        "import matplotlib.pyplot as plt\n",
        "import os\n",
        "from torchvision.datasets import ImageFolder\n",
        "\n",
        "# === Configuration ===\n",
        "img_size = 64\n",
        "n_channels = 3\n",
        "patch_size = 16\n",
        "d_model = 128\n",
        "num_heads = 4\n",
        "num_layers = 6\n",
        "num_classes = 200\n",
        "ff_dim = 384\n",
        "dropout = 0.1\n",
        "lr = 1e-4\n",
        "batch_size = 32\n",
        "num_epochs = 10           # Nombre d'époques\n",
        "\n",
        "\n",
        "\n",
        "class PatchEmbedding(nn.Module):\n",
        "    def __init__(self, d_model, img_size, patch_size, n_channels):\n",
        "        super().__init__()\n",
        "        self.patch_size = patch_size\n",
        "        self.img_size = img_size\n",
        "\n",
        "        # Convolution pour extraire les patches et les projeter directement dans l'espace d'embedding\n",
        "        self.patch_embedding = nn.Conv2d(\n",
        "            in_channels=n_channels,\n",
        "            out_channels=d_model,\n",
        "            kernel_size=patch_size,\n",
        "            stride=patch_size\n",
        "        )\n",
        "\n",
        "    def forward(self, x):\n",
        "        N, C, H, W = x.shape\n",
        "\n",
        "        # Passer l'image à travers la couche de patch embedding\n",
        "        x = self.patch_embedding(x)           # (N, C, H, W) -> (N, D, H/patch_size, W/patch_size)\n",
        "        x = x.flatten(2)                      # (N, D, H/patch_size, W/patch_size) -> (N, D, num_patches)\n",
        "        x = x.transpose(1, 2)                 # (N, D, num_patches) -> (N, num_patches, D)\n",
        "\n",
        "        return x\n",
        "\n",
        "\n",
        "\n",
        "\n",
        "\n",
        "class ViT(nn.Module):\n",
        "    def __init__(self, img_size, n_channels, patch_size, d_model, num_heads, num_layers, num_classes, ff_dim , dropout):\n",
        "        super(ViT, self).__init__()\n",
        "\n",
        "        self.patch_embedding = PatchEmbedding(d_model, img_size, patch_size, n_channels)\n",
        "\n",
        "\n",
        "        # Token CLS à concaténer\n",
        "        self.cls_token = nn.Parameter(torch.randn(1, 1, d_model))\n",
        "\n",
        "        # Embedding de position pour les patches et CLS token\n",
        "        num_patches = (img_size // patch_size) ** 2\n",
        "        self.position_embedding = nn.Parameter(\n",
        "            torch.randn(1, num_patches + 1, d_model)\n",
        "        )\n",
        "\n",
        "        # Définition d'une couche Transformer Encoder\n",
        "        encoder_layer = nn.TransformerEncoderLayer(\n",
        "            d_model=d_model,      # Dimension des embeddings\n",
        "            nhead=num_heads,          # Nombre de têtes dans l'attention multi-têtes\n",
        "            dim_feedforward=ff_dim,  # Dimension des couches feedforward\n",
        "            dropout=dropout   ,    # Taux de dropout\n",
        "            batch_first=True\n",
        "            )\n",
        "\n",
        "        self.transformer_encoder = nn.TransformerEncoder(encoder_layer, num_layers=num_layers)\n",
        "\n",
        "\n",
        "        self.dropout = nn.Dropout(dropout)\n",
        "\n",
        "        # Couche linéaire finale pour classification\n",
        "        self.fc = nn.Linear(d_model, num_classes)\n",
        "\n",
        "    def forward(self, x):\n",
        "\n",
        "        N, C, H, W = x.shape\n",
        "\n",
        "        # Passer l'image à travers la couche de patch embedding\n",
        "        x = self.patch_embedding(x)\n",
        "\n",
        "        # Concaténer le CLS token\n",
        "        cls_tokens = self.cls_token.repeat(N, 1, 1)\n",
        "        x = torch.cat((cls_tokens, x), dim=1)\n",
        "\n",
        "        # Ajouter les embeddings de position\n",
        "        x = x + self.position_embedding\n",
        "\n",
        "        # Passer à travers le Transformer Encoder\n",
        "        x = self.transformer_encoder(x)\n",
        "\n",
        "\n",
        "        # Dropout\n",
        "        x = self.dropout(x)\n",
        "\n",
        "        # Prendre la sortie du token CLS\n",
        "        x = x[:, 0]\n",
        "\n",
        "        # Couche finale pour la classification\n",
        "        x = self.fc(x)\n",
        "\n",
        "        return x\n",
        "\n",
        "\n",
        "# Fonction pour obtenir les DataLoaders\n",
        "# Fonction pour obtenir les DataLoaders\n",
        "def get_data_loaders(batch_size=batch_size):\n",
        "\n",
        "    # 1. Chemin monté automatiquement par Kaggle\n",
        "    dataset_path = \"/content/tinyimagenet/tiny-imagenet-200\"\n",
        "\n",
        "\n",
        "# --- 1. Définir les transformations d'entrée ---\n",
        "    train_transform = transforms.Compose([\n",
        "        transforms.Resize((64, 64)),\n",
        "        transforms.RandomHorizontalFlip(),\n",
        "        transforms.ToTensor(),\n",
        "        transforms.Normalize([0.5]*3, [0.5]*3),\n",
        "    ])\n",
        "\n",
        "    test_transform = transforms.Compose([\n",
        "        transforms.Resize((64, 64)),\n",
        "        transforms.ToTensor(),\n",
        "        transforms.Normalize([0.5]*3, [0.5]*3),\n",
        "    ])\n",
        "\n",
        "    train_dir = os.path.join(dataset_path, \"train\")\n",
        "    test_dir = os.path.join(dataset_path, \"val\")\n",
        "\n",
        "\n",
        "    train_dataset = ImageFolder(root=train_dir, transform=train_transform)\n",
        "    test_dataset = ImageFolder(root=test_dir, transform=test_transform)\n",
        "\n",
        "\n",
        "    trainloader = DataLoader(train_dataset, batch_size=64, shuffle=True,num_workers=2)\n",
        "    testloader = DataLoader(test_dataset, batch_size=64, shuffle=False, num_workers=2)\n",
        "\n",
        "    #trainloader = DataLoader(trainset, batch_size=64, shuffle=True, num_workers=2)\n",
        "    #testloader = DataLoader(testset, batch_size=64, shuffle=False, num_workers=2)\n",
        "\n",
        "\n",
        "    return trainloader, testloader\n",
        "\n",
        "# Fonction d'entraînement\n",
        "def train(model, train_loader, optimizer, criterion, device):\n",
        "    model.train()\n",
        "    running_loss = 0.0\n",
        "    correct = 0\n",
        "    total = 0\n",
        "    for images, labels in tqdm(train_loader, desc=\"Training       \"):\n",
        "        images, labels = images.to(device), labels.to(device)\n",
        "        optimizer.zero_grad()\n",
        "        outputs = model(images)\n",
        "        loss = criterion(outputs, labels)\n",
        "        loss.backward()\n",
        "        optimizer.step()\n",
        "        running_loss += loss.item()\n",
        "        _, predicted = torch.max(outputs.data, 1)\n",
        "        total += labels.size(0)\n",
        "        correct += (predicted == labels).sum().item()\n",
        "    epoch_loss = running_loss / len(train_loader)\n",
        "    train_accuracy = 100 * correct / total\n",
        "    return epoch_loss, train_accuracy\n",
        "\n",
        "\n",
        "# Fonction de test\n",
        "def test(model, test_loader, criterion, device):\n",
        "    model.eval()\n",
        "    correct = 0\n",
        "    total = 0\n",
        "    running_test_loss = 0.0\n",
        "    with torch.no_grad():\n",
        "        for images, labels in tqdm(test_loader, desc=\"Testing        \"):\n",
        "            images, labels = images.to(device), labels.to(device)\n",
        "            outputs = model(images)\n",
        "            loss = criterion(outputs, labels)\n",
        "            running_test_loss += loss.item()\n",
        "            _, predicted = torch.max(outputs, 1)\n",
        "            total += labels.size(0)\n",
        "            correct += (predicted == labels).sum().item()\n",
        "    test_loss = running_test_loss / len(test_loader)\n",
        "    test_accuracy = 100 * correct / total\n",
        "    return test_loss, test_accuracy\n",
        "\n",
        "# Fonction principale\n",
        "def main():\n",
        "    device = torch.device('cuda' if torch.cuda.is_available() else 'cpu')\n",
        "\n",
        "    trainloader, testloader = get_data_loaders()\n",
        "\n",
        "\n",
        "\n",
        "    # Initialisation du modèle\n",
        "    model = ViT(\n",
        "        img_size=img_size,\n",
        "        n_channels=n_channels,\n",
        "        patch_size=patch_size,\n",
        "        d_model=d_model,\n",
        "        num_heads=num_heads,\n",
        "        num_layers=num_layers,\n",
        "        num_classes=num_classes,\n",
        "        ff_dim=ff_dim,\n",
        "        dropout=dropout\n",
        "    )\n",
        "\n",
        "    model.to(device)\n",
        "    criterion = nn.CrossEntropyLoss()\n",
        "    optimizer = torch.optim.AdamW(model.parameters(), lr=lr, weight_decay=0.01)\n",
        "\n",
        "    t_train_acc = []\n",
        "    t_test_acc = []\n",
        "    t_train_loss = []\n",
        "    t_test_loss = []\n",
        "\n",
        "    for epoch in range(num_epochs):\n",
        "\n",
        "        print(f'\\nEpoch {epoch+1}/{num_epochs}')\n",
        "        train_loss, train_accuracy = train(model, trainloader, optimizer, criterion, device)\n",
        "        print(f'Train Loss     : {train_loss:.4f}')\n",
        "        print(f'Train Accuracy : {train_accuracy:.2f}%')\n",
        "        test_loss, test_accuracy = test(model, testloader, criterion, device)\n",
        "        print(f'Test Loss      : {test_loss:.4f}')\n",
        "        print(f'Test Accuracy  : {test_accuracy:.2f}%')\n",
        "\n",
        "        t_train_acc.append(train_accuracy)\n",
        "        t_test_acc.append(test_accuracy)\n",
        "        t_train_loss.append(train_loss)\n",
        "        t_test_loss.append(test_loss)\n",
        "\n",
        "    # Visualisation des pertes et des précisions\n",
        "    fig, ax = plt.subplots(1, 2, figsize=(15, 5))\n",
        "\n",
        "    # Tracé de la perte\n",
        "    ax[0].plot(range(1, num_epochs + 1), t_train_loss, label='Perte d\\'entraînement', marker='o')\n",
        "    ax[0].plot(range(1, num_epochs + 1), t_test_loss, label='Perte de test', marker='o')\n",
        "    ax[0].set_xlabel('Époque')\n",
        "    ax[0].set_ylabel('Perte')\n",
        "    ax[0].set_title('Perte d\\'entraînement et Perte de test')\n",
        "    ax[0].legend()\n",
        "    ax[0].grid(True)\n",
        "\n",
        "    # Tracé de la précision\n",
        "    ax[1].plot(range(1, num_epochs + 1), t_train_acc, label='Précision d\\'entraînement', marker='o')\n",
        "    ax[1].plot(range(1, num_epochs + 1), t_test_acc, label='Précision de test', marker='o')\n",
        "    ax[1].set_xlabel('Époque')\n",
        "    ax[1].set_ylabel('Précision')\n",
        "    ax[1].set_title('Précision d\\'entraînement et Précision de test')\n",
        "    ax[1].legend()\n",
        "    ax[1].grid(True)\n",
        "\n",
        "    plt.tight_layout()\n",
        "    plt.show()\n",
        "\n",
        "    torch.save(model, 'model.pth')\n",
        "    print(\"Model saved\")\n",
        "    print(\"Done\")\n",
        "\n",
        "\n",
        "if __name__ == '__main__':\n",
        "    main()"
      ]
    }
  ],
  "metadata": {
    "colab": {
      "machine_shape": "hm",
      "provenance": [],
      "gpuType": "T4"
    },
    "kernelspec": {
      "display_name": "Python 3",
      "name": "python3"
    },
    "language_info": {
      "name": "python"
    },
    "accelerator": "GPU"
  },
  "nbformat": 4,
  "nbformat_minor": 0
}