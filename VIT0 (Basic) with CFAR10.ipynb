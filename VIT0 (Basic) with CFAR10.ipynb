{
  "cells": [
    {
      "cell_type": "code",
      "execution_count": null,
      "metadata": {
        "execution": {
          "iopub.execute_input": "2025-07-30T17:14:08.005443Z",
          "iopub.status.busy": "2025-07-30T17:14:08.004660Z",
          "iopub.status.idle": "2025-07-30T17:26:40.758032Z",
          "shell.execute_reply": "2025-07-30T17:26:40.757135Z",
          "shell.execute_reply.started": "2025-07-30T17:14:08.005399Z"
        },
        "id": "fg6Z0D1Y-cRO",
        "outputId": "c581414c-8b62-4e86-aa63-80f50504930b",
        "trusted": true
      },
      "outputs": [
        {
          "name": "stdout",
          "output_type": "stream",
          "text": [
            "\n",
            "Epoch 1/20\n"
          ]
        },
        {
          "name": "stderr",
          "output_type": "stream",
          "text": [
            "Training       : 100%|██████████| 1563/1563 [00:34<00:00, 45.05it/s]\n"
          ]
        },
        {
          "name": "stdout",
          "output_type": "stream",
          "text": [
            "Train Loss     : 1.8295\n",
            "Train Accuracy : 32.10%\n"
          ]
        },
        {
          "name": "stderr",
          "output_type": "stream",
          "text": [
            "Testing        : 100%|██████████| 313/313 [00:02<00:00, 129.71it/s]\n"
          ]
        },
        {
          "name": "stdout",
          "output_type": "stream",
          "text": [
            "Test Loss      : 1.5531\n",
            "Test Accuracy  : 42.57%\n",
            "\n",
            "Epoch 2/20\n"
          ]
        },
        {
          "name": "stderr",
          "output_type": "stream",
          "text": [
            "Training       : 100%|██████████| 1563/1563 [00:35<00:00, 44.57it/s]\n"
          ]
        },
        {
          "name": "stdout",
          "output_type": "stream",
          "text": [
            "Train Loss     : 1.5592\n",
            "Train Accuracy : 43.18%\n"
          ]
        },
        {
          "name": "stderr",
          "output_type": "stream",
          "text": [
            "Testing        : 100%|██████████| 313/313 [00:02<00:00, 130.51it/s]\n"
          ]
        },
        {
          "name": "stdout",
          "output_type": "stream",
          "text": [
            "Test Loss      : 1.4026\n",
            "Test Accuracy  : 49.30%\n",
            "\n",
            "Epoch 3/20\n"
          ]
        },
        {
          "name": "stderr",
          "output_type": "stream",
          "text": [
            "Training       : 100%|██████████| 1563/1563 [00:35<00:00, 44.40it/s]\n"
          ]
        },
        {
          "name": "stdout",
          "output_type": "stream",
          "text": [
            "Train Loss     : 1.4555\n",
            "Train Accuracy : 47.20%\n"
          ]
        },
        {
          "name": "stderr",
          "output_type": "stream",
          "text": [
            "Testing        : 100%|██████████| 313/313 [00:02<00:00, 132.60it/s]\n"
          ]
        },
        {
          "name": "stdout",
          "output_type": "stream",
          "text": [
            "Test Loss      : 1.3322\n",
            "Test Accuracy  : 51.81%\n",
            "\n",
            "Epoch 4/20\n"
          ]
        },
        {
          "name": "stderr",
          "output_type": "stream",
          "text": [
            "Training       : 100%|██████████| 1563/1563 [00:35<00:00, 44.43it/s]\n"
          ]
        },
        {
          "name": "stdout",
          "output_type": "stream",
          "text": [
            "Train Loss     : 1.3791\n",
            "Train Accuracy : 49.72%\n"
          ]
        },
        {
          "name": "stderr",
          "output_type": "stream",
          "text": [
            "Testing        : 100%|██████████| 313/313 [00:02<00:00, 131.36it/s]\n"
          ]
        },
        {
          "name": "stdout",
          "output_type": "stream",
          "text": [
            "Test Loss      : 1.3068\n",
            "Test Accuracy  : 53.03%\n",
            "\n",
            "Epoch 5/20\n"
          ]
        },
        {
          "name": "stderr",
          "output_type": "stream",
          "text": [
            "Training       : 100%|██████████| 1563/1563 [00:35<00:00, 44.20it/s]\n"
          ]
        },
        {
          "name": "stdout",
          "output_type": "stream",
          "text": [
            "Train Loss     : 1.3257\n",
            "Train Accuracy : 51.97%\n"
          ]
        },
        {
          "name": "stderr",
          "output_type": "stream",
          "text": [
            "Testing        : 100%|██████████| 313/313 [00:02<00:00, 128.38it/s]\n"
          ]
        },
        {
          "name": "stdout",
          "output_type": "stream",
          "text": [
            "Test Loss      : 1.2579\n",
            "Test Accuracy  : 54.70%\n",
            "\n",
            "Epoch 6/20\n"
          ]
        },
        {
          "name": "stderr",
          "output_type": "stream",
          "text": [
            "Training       : 100%|██████████| 1563/1563 [00:35<00:00, 43.64it/s]\n"
          ]
        },
        {
          "name": "stdout",
          "output_type": "stream",
          "text": [
            "Train Loss     : 1.2807\n",
            "Train Accuracy : 53.83%\n"
          ]
        },
        {
          "name": "stderr",
          "output_type": "stream",
          "text": [
            "Testing        : 100%|██████████| 313/313 [00:02<00:00, 129.96it/s]\n"
          ]
        },
        {
          "name": "stdout",
          "output_type": "stream",
          "text": [
            "Test Loss      : 1.2286\n",
            "Test Accuracy  : 55.77%\n",
            "\n",
            "Epoch 7/20\n"
          ]
        },
        {
          "name": "stderr",
          "output_type": "stream",
          "text": [
            "Training       : 100%|██████████| 1563/1563 [00:34<00:00, 44.73it/s]\n"
          ]
        },
        {
          "name": "stdout",
          "output_type": "stream",
          "text": [
            "Train Loss     : 1.2435\n",
            "Train Accuracy : 55.20%\n"
          ]
        },
        {
          "name": "stderr",
          "output_type": "stream",
          "text": [
            "Testing        : 100%|██████████| 313/313 [00:02<00:00, 122.98it/s]\n"
          ]
        },
        {
          "name": "stdout",
          "output_type": "stream",
          "text": [
            "Test Loss      : 1.1699\n",
            "Test Accuracy  : 57.81%\n",
            "\n",
            "Epoch 8/20\n"
          ]
        },
        {
          "name": "stderr",
          "output_type": "stream",
          "text": [
            "Training       : 100%|██████████| 1563/1563 [00:36<00:00, 43.35it/s]\n"
          ]
        },
        {
          "name": "stdout",
          "output_type": "stream",
          "text": [
            "Train Loss     : 1.2159\n",
            "Train Accuracy : 56.43%\n"
          ]
        },
        {
          "name": "stderr",
          "output_type": "stream",
          "text": [
            "Testing        : 100%|██████████| 313/313 [00:02<00:00, 124.59it/s]\n"
          ]
        },
        {
          "name": "stdout",
          "output_type": "stream",
          "text": [
            "Test Loss      : 1.1478\n",
            "Test Accuracy  : 58.65%\n",
            "\n",
            "Epoch 9/20\n"
          ]
        },
        {
          "name": "stderr",
          "output_type": "stream",
          "text": [
            "Training       : 100%|██████████| 1563/1563 [00:35<00:00, 43.48it/s]\n"
          ]
        },
        {
          "name": "stdout",
          "output_type": "stream",
          "text": [
            "Train Loss     : 1.1820\n",
            "Train Accuracy : 57.60%\n"
          ]
        },
        {
          "name": "stderr",
          "output_type": "stream",
          "text": [
            "Testing        : 100%|██████████| 313/313 [00:02<00:00, 133.80it/s]\n"
          ]
        },
        {
          "name": "stdout",
          "output_type": "stream",
          "text": [
            "Test Loss      : 1.1279\n",
            "Test Accuracy  : 59.42%\n",
            "\n",
            "Epoch 10/20\n"
          ]
        },
        {
          "name": "stderr",
          "output_type": "stream",
          "text": [
            "Training       : 100%|██████████| 1563/1563 [00:35<00:00, 44.46it/s]\n"
          ]
        },
        {
          "name": "stdout",
          "output_type": "stream",
          "text": [
            "Train Loss     : 1.1556\n",
            "Train Accuracy : 58.72%\n"
          ]
        },
        {
          "name": "stderr",
          "output_type": "stream",
          "text": [
            "Testing        : 100%|██████████| 313/313 [00:02<00:00, 136.71it/s]\n"
          ]
        },
        {
          "name": "stdout",
          "output_type": "stream",
          "text": [
            "Test Loss      : 1.1234\n",
            "Test Accuracy  : 60.39%\n",
            "\n",
            "Epoch 11/20\n"
          ]
        },
        {
          "name": "stderr",
          "output_type": "stream",
          "text": [
            "Training       : 100%|██████████| 1563/1563 [00:35<00:00, 43.57it/s]\n"
          ]
        },
        {
          "name": "stdout",
          "output_type": "stream",
          "text": [
            "Train Loss     : 1.1285\n",
            "Train Accuracy : 59.54%\n"
          ]
        },
        {
          "name": "stderr",
          "output_type": "stream",
          "text": [
            "Testing        : 100%|██████████| 313/313 [00:02<00:00, 130.19it/s]\n"
          ]
        },
        {
          "name": "stdout",
          "output_type": "stream",
          "text": [
            "Test Loss      : 1.0798\n",
            "Test Accuracy  : 61.36%\n",
            "\n",
            "Epoch 12/20\n"
          ]
        },
        {
          "name": "stderr",
          "output_type": "stream",
          "text": [
            "Training       : 100%|██████████| 1563/1563 [00:35<00:00, 43.54it/s]\n"
          ]
        },
        {
          "name": "stdout",
          "output_type": "stream",
          "text": [
            "Train Loss     : 1.0931\n",
            "Train Accuracy : 61.01%\n"
          ]
        },
        {
          "name": "stderr",
          "output_type": "stream",
          "text": [
            "Testing        : 100%|██████████| 313/313 [00:02<00:00, 133.81it/s]\n"
          ]
        },
        {
          "name": "stdout",
          "output_type": "stream",
          "text": [
            "Test Loss      : 1.0755\n",
            "Test Accuracy  : 61.35%\n",
            "\n",
            "Epoch 13/20\n"
          ]
        },
        {
          "name": "stderr",
          "output_type": "stream",
          "text": [
            "Training       : 100%|██████████| 1563/1563 [00:34<00:00, 45.16it/s]\n"
          ]
        },
        {
          "name": "stdout",
          "output_type": "stream",
          "text": [
            "Train Loss     : 1.0722\n",
            "Train Accuracy : 61.70%\n"
          ]
        },
        {
          "name": "stderr",
          "output_type": "stream",
          "text": [
            "Testing        : 100%|██████████| 313/313 [00:02<00:00, 137.82it/s]\n"
          ]
        },
        {
          "name": "stdout",
          "output_type": "stream",
          "text": [
            "Test Loss      : 1.0186\n",
            "Test Accuracy  : 64.11%\n",
            "\n",
            "Epoch 14/20\n"
          ]
        },
        {
          "name": "stderr",
          "output_type": "stream",
          "text": [
            "Training       : 100%|██████████| 1563/1563 [00:34<00:00, 45.95it/s]\n"
          ]
        },
        {
          "name": "stdout",
          "output_type": "stream",
          "text": [
            "Train Loss     : 1.0496\n",
            "Train Accuracy : 62.51%\n"
          ]
        },
        {
          "name": "stderr",
          "output_type": "stream",
          "text": [
            "Testing        : 100%|██████████| 313/313 [00:02<00:00, 135.57it/s]\n"
          ]
        },
        {
          "name": "stdout",
          "output_type": "stream",
          "text": [
            "Test Loss      : 1.0188\n",
            "Test Accuracy  : 63.12%\n",
            "\n",
            "Epoch 15/20\n"
          ]
        },
        {
          "name": "stderr",
          "output_type": "stream",
          "text": [
            "Training       : 100%|██████████| 1563/1563 [00:35<00:00, 44.26it/s]\n"
          ]
        },
        {
          "name": "stdout",
          "output_type": "stream",
          "text": [
            "Train Loss     : 1.0308\n",
            "Train Accuracy : 62.98%\n"
          ]
        },
        {
          "name": "stderr",
          "output_type": "stream",
          "text": [
            "Testing        : 100%|██████████| 313/313 [00:02<00:00, 138.08it/s]\n"
          ]
        },
        {
          "name": "stdout",
          "output_type": "stream",
          "text": [
            "Test Loss      : 0.9927\n",
            "Test Accuracy  : 64.74%\n",
            "\n",
            "Epoch 16/20\n"
          ]
        },
        {
          "name": "stderr",
          "output_type": "stream",
          "text": [
            "Training       : 100%|██████████| 1563/1563 [00:34<00:00, 45.39it/s]\n"
          ]
        },
        {
          "name": "stdout",
          "output_type": "stream",
          "text": [
            "Train Loss     : 1.0042\n",
            "Train Accuracy : 64.18%\n"
          ]
        },
        {
          "name": "stderr",
          "output_type": "stream",
          "text": [
            "Testing        : 100%|██████████| 313/313 [00:02<00:00, 135.26it/s]\n"
          ]
        },
        {
          "name": "stdout",
          "output_type": "stream",
          "text": [
            "Test Loss      : 0.9941\n",
            "Test Accuracy  : 64.87%\n",
            "\n",
            "Epoch 17/20\n"
          ]
        },
        {
          "name": "stderr",
          "output_type": "stream",
          "text": [
            "Training       : 100%|██████████| 1563/1563 [00:34<00:00, 45.23it/s]\n"
          ]
        },
        {
          "name": "stdout",
          "output_type": "stream",
          "text": [
            "Train Loss     : 0.9833\n",
            "Train Accuracy : 64.86%\n"
          ]
        },
        {
          "name": "stderr",
          "output_type": "stream",
          "text": [
            "Testing        : 100%|██████████| 313/313 [00:02<00:00, 134.24it/s]\n"
          ]
        },
        {
          "name": "stdout",
          "output_type": "stream",
          "text": [
            "Test Loss      : 0.9699\n",
            "Test Accuracy  : 65.42%\n",
            "\n",
            "Epoch 18/20\n"
          ]
        },
        {
          "name": "stderr",
          "output_type": "stream",
          "text": [
            "Training       : 100%|██████████| 1563/1563 [00:34<00:00, 44.79it/s]\n"
          ]
        },
        {
          "name": "stdout",
          "output_type": "stream",
          "text": [
            "Train Loss     : 0.9607\n",
            "Train Accuracy : 65.95%\n"
          ]
        },
        {
          "name": "stderr",
          "output_type": "stream",
          "text": [
            "Testing        : 100%|██████████| 313/313 [00:02<00:00, 136.33it/s]\n"
          ]
        },
        {
          "name": "stdout",
          "output_type": "stream",
          "text": [
            "Test Loss      : 1.0057\n",
            "Test Accuracy  : 63.96%\n",
            "\n",
            "Epoch 19/20\n"
          ]
        },
        {
          "name": "stderr",
          "output_type": "stream",
          "text": [
            "Training       : 100%|██████████| 1563/1563 [00:35<00:00, 44.44it/s]\n"
          ]
        },
        {
          "name": "stdout",
          "output_type": "stream",
          "text": [
            "Train Loss     : 0.9534\n",
            "Train Accuracy : 65.92%\n"
          ]
        },
        {
          "name": "stderr",
          "output_type": "stream",
          "text": [
            "Testing        : 100%|██████████| 313/313 [00:02<00:00, 133.30it/s]\n"
          ]
        },
        {
          "name": "stdout",
          "output_type": "stream",
          "text": [
            "Test Loss      : 0.9358\n",
            "Test Accuracy  : 66.42%\n",
            "\n",
            "Epoch 20/20\n"
          ]
        },
        {
          "name": "stderr",
          "output_type": "stream",
          "text": [
            "Training       : 100%|██████████| 1563/1563 [00:34<00:00, 45.00it/s]\n"
          ]
        },
        {
          "name": "stdout",
          "output_type": "stream",
          "text": [
            "Train Loss     : 0.9258\n",
            "Train Accuracy : 67.12%\n"
          ]
        },
        {
          "name": "stderr",
          "output_type": "stream",
          "text": [
            "Testing        : 100%|██████████| 313/313 [00:02<00:00, 129.83it/s]\n"
          ]
        },
        {
          "name": "stdout",
          "output_type": "stream",
          "text": [
            "Test Loss      : 0.9235\n",
            "Test Accuracy  : 66.42%\n"
          ]
        },
        {
          "data": {
            "image/png": "[encoded data removed]",
            "text/plain": [
              "<Figure size 1500x500 with 2 Axes>"
            ]
          },
          "metadata": {},
          "output_type": "display_data"
        },
        {
          "name": "stdout",
          "output_type": "stream",
          "text": [
            "Model saved\n",
            "Done\n"
          ]
        }
      ],
      "source": [
        "import torch\n",
        "import torch.nn as nn\n",
        "import torch.optim as optim\n",
        "from torchvision import datasets, transforms\n",
        "from torch.utils.data import DataLoader\n",
        "from tqdm import tqdm\n",
        "import numpy as np\n",
        "import matplotlib.pyplot as plt\n",
        "\n",
        "\n",
        "# Configuration des hyperparamètres\n",
        "img_size = 32               # Taille des images CIFAR-10\n",
        "n_channels = 3              # Nombre de canaux (3 pour CIFAR-10)\n",
        "patch_size = 8              # Taille des patches, ajustée pour une meilleure performance sur CIFAR-10\n",
        "d_model = 192             # Dimension de l'embedding, augmentée pour une meilleure capacité d'apprentissage\n",
        "num_heads = 8             # Nombre de têtes dans l'attention multi-têtes, augmenté pour une meilleure modélisation\n",
        "num_layers = 7             # Nombre de couches du Transformer, ajusté pour une meilleure profondeur\n",
        "num_classes = 10            # Nombre de classes pour CIFAR-10\n",
        "ff_dim = 768                # Dimension du feedforward network, augmentée pour une meilleure performance\n",
        "dropout = 0.1               # Taux de dropout, ajusté pour une meilleure généralisation\n",
        "\n",
        "#autre parametres\n",
        "lr = 1e-4                   # Taux d'apprentissage\n",
        "batch_size = 32             # Taille du lot\n",
        "num_epochs = 20            # Nombre d'époques\n",
        "\n",
        "\n",
        "\n",
        "class PatchEmbedding(nn.Module):\n",
        "    def __init__(self, d_model, img_size, patch_size, n_channels):\n",
        "        super().__init__()\n",
        "        self.patch_size = patch_size\n",
        "        self.img_size = img_size\n",
        "\n",
        "        # Convolution pour extraire les patches et les projeter directement dans l'espace d'embedding\n",
        "        self.patch_embedding = nn.Conv2d(\n",
        "            in_channels=n_channels,\n",
        "            out_channels=d_model,\n",
        "            kernel_size=patch_size,\n",
        "            stride=patch_size\n",
        "        )\n",
        "\n",
        "    def forward(self, x):\n",
        "        N, C, H, W = x.shape\n",
        "\n",
        "        # Passer l'image à travers la couche de patch embedding\n",
        "        x = self.patch_embedding(x)           # (N, C, H, W) -> (N, D, H/patch_size, W/patch_size)\n",
        "        x = x.flatten(2)                      # (N, D, H/patch_size, W/patch_size) -> (N, D, num_patches)\n",
        "        x = x.transpose(1, 2)                 # (N, D, num_patches) -> (N, num_patches, D)\n",
        "\n",
        "        return x\n",
        "\n",
        "\n",
        "\n",
        "\n",
        "\n",
        "class ViT(nn.Module):\n",
        "    def __init__(self, img_size, n_channels, patch_size, d_model, num_heads, num_layers, num_classes, ff_dim , dropout):\n",
        "        super(ViT, self).__init__()\n",
        "\n",
        "        self.patch_embedding = PatchEmbedding(d_model, img_size, patch_size, n_channels)\n",
        "\n",
        "\n",
        "        # Token CLS à concaténer\n",
        "        self.cls_token = nn.Parameter(torch.randn(1, 1, d_model))\n",
        "\n",
        "        # Embedding de position pour les patches et CLS token\n",
        "        num_patches = (img_size // patch_size) ** 2\n",
        "        self.position_embedding = nn.Parameter(\n",
        "            torch.randn(1, num_patches + 1, d_model)\n",
        "        )\n",
        "\n",
        "        # Définition d'une couche Transformer Encoder\n",
        "        encoder_layer = nn.TransformerEncoderLayer(\n",
        "            d_model=d_model,      # Dimension des embeddings\n",
        "            nhead=num_heads,          # Nombre de têtes dans l'attention multi-têtes\n",
        "            dim_feedforward=ff_dim,  # Dimension des couches feedforward\n",
        "            dropout=dropout   ,    # Taux de dropout\n",
        "            batch_first=True\n",
        "            )\n",
        "\n",
        "        self.transformer_encoder = nn.TransformerEncoder(encoder_layer, num_layers=num_layers)\n",
        "\n",
        "\n",
        "        self.dropout = nn.Dropout(dropout)\n",
        "\n",
        "        # Couche linéaire finale pour classification\n",
        "        self.fc = nn.Linear(d_model, num_classes)\n",
        "\n",
        "    def forward(self, x):\n",
        "\n",
        "        N, C, H, W = x.shape\n",
        "\n",
        "        # Passer l'image à travers la couche de patch embedding\n",
        "        x = self.patch_embedding(x)\n",
        "\n",
        "        # Concaténer le CLS token\n",
        "        cls_tokens = self.cls_token.repeat(N, 1, 1)\n",
        "        x = torch.cat((cls_tokens, x), dim=1)\n",
        "\n",
        "        # Ajouter les embeddings de position\n",
        "        x = x + self.position_embedding\n",
        "\n",
        "        # Passer à travers le Transformer Encoder\n",
        "        x = self.transformer_encoder(x)\n",
        "\n",
        "\n",
        "        # Dropout\n",
        "        x = self.dropout(x)\n",
        "\n",
        "        # Prendre la sortie du token CLS\n",
        "        x = x[:, 0]\n",
        "\n",
        "        # Couche finale pour la classification\n",
        "        x = self.fc(x)\n",
        "\n",
        "        return x\n",
        "\n",
        "\n",
        "# Fonction pour obtenir les DataLoaders\n",
        "def get_data_loaders(batch_size=batch_size):\n",
        "    transform_train = transforms.Compose([\n",
        "        transforms.RandomHorizontalFlip(),\n",
        "        transforms.RandomCrop(32, padding=4),\n",
        "        transforms.ToTensor(),\n",
        "        transforms.Normalize((0.4914, 0.4822, 0.4465), (0.2023, 0.1994, 0.2010))\n",
        "    ])\n",
        "\n",
        "    transform_test = transforms.Compose([\n",
        "        transforms.ToTensor(),\n",
        "        transforms.Normalize((0.4914, 0.4822, 0.4465), (0.2023, 0.1994, 0.2010))\n",
        "    ])\n",
        "\n",
        "    trainset = datasets.CIFAR10(root='./data', train=True, transform=transform_train, download=True)\n",
        "    testset = datasets.CIFAR10(root='./data', train=False, transform=transform_test, download=True)\n",
        "\n",
        "    trainloader = DataLoader(trainset, batch_size=batch_size, shuffle=True, num_workers=2)\n",
        "    testloader = DataLoader(testset, batch_size=batch_size, shuffle=False, num_workers=2)\n",
        "\n",
        "    return trainloader, testloader\n",
        "\n",
        "# Fonction d'entraînement\n",
        "def train(model, train_loader, optimizer, criterion, device):\n",
        "    model.train()\n",
        "    running_loss = 0.0\n",
        "    correct = 0\n",
        "    total = 0\n",
        "    for images, labels in tqdm(train_loader, desc=\"Training       \"):\n",
        "        images, labels = images.to(device), labels.to(device)\n",
        "        optimizer.zero_grad()\n",
        "        outputs = model(images)\n",
        "        loss = criterion(outputs, labels)\n",
        "        loss.backward()\n",
        "        optimizer.step()\n",
        "        running_loss += loss.item()\n",
        "        _, predicted = torch.max(outputs.data, 1)\n",
        "        total += labels.size(0)\n",
        "        correct += (predicted == labels).sum().item()\n",
        "    epoch_loss = running_loss / len(train_loader)\n",
        "    train_accuracy = 100 * correct / total\n",
        "    return epoch_loss, train_accuracy\n",
        "\n",
        "\n",
        "# Fonction de test\n",
        "def test(model, test_loader, criterion, device):\n",
        "    model.eval()\n",
        "    correct = 0\n",
        "    total = 0\n",
        "    running_test_loss = 0.0\n",
        "    with torch.no_grad():\n",
        "        for images, labels in tqdm(test_loader, desc=\"Testing        \"):\n",
        "            images, labels = images.to(device), labels.to(device)\n",
        "            outputs = model(images)\n",
        "            loss = criterion(outputs, labels)\n",
        "            running_test_loss += loss.item()\n",
        "            _, predicted = torch.max(outputs, 1)\n",
        "            total += labels.size(0)\n",
        "            correct += (predicted == labels).sum().item()\n",
        "    test_loss = running_test_loss / len(test_loader)\n",
        "    test_accuracy = 100 * correct / total\n",
        "    return test_loss, test_accuracy\n",
        "\n",
        "# Fonction principale\n",
        "def main():\n",
        "    device = torch.device('cuda' if torch.cuda.is_available() else 'cpu')\n",
        "\n",
        "    trainloader, testloader = get_data_loaders()\n",
        "\n",
        "\n",
        "\n",
        "    # Initialisation du modèle\n",
        "    model = ViT(\n",
        "        img_size=img_size,\n",
        "        n_channels=n_channels,\n",
        "        patch_size=patch_size,\n",
        "        d_model=d_model,\n",
        "        num_heads=num_heads,\n",
        "        num_layers=num_layers,\n",
        "        num_classes=num_classes,\n",
        "        ff_dim=ff_dim,\n",
        "        dropout=dropout\n",
        "    )\n",
        "\n",
        "    model.to(device)\n",
        "    criterion = nn.CrossEntropyLoss()\n",
        "    optimizer = torch.optim.AdamW(model.parameters(), lr=lr)\n",
        "\n",
        "    t_train_acc = []\n",
        "    t_test_acc = []\n",
        "    t_train_loss = []\n",
        "    t_test_loss = []\n",
        "\n",
        "    for epoch in range(num_epochs):\n",
        "\n",
        "        print(f'\\nEpoch {epoch+1}/{num_epochs}')\n",
        "        train_loss, train_accuracy = train(model, trainloader, optimizer, criterion, device)\n",
        "        print(f'Train Loss     : {train_loss:.4f}')\n",
        "        print(f'Train Accuracy : {train_accuracy:.2f}%')\n",
        "        test_loss, test_accuracy = test(model, testloader, criterion, device)\n",
        "        print(f'Test Loss      : {test_loss:.4f}')\n",
        "        print(f'Test Accuracy  : {test_accuracy:.2f}%')\n",
        "\n",
        "        t_train_acc.append(train_accuracy)\n",
        "        t_test_acc.append(test_accuracy)\n",
        "        t_train_loss.append(train_loss)\n",
        "        t_test_loss.append(test_loss)\n",
        "\n",
        "    # Visualisation des pertes et des précisions\n",
        "    fig, ax = plt.subplots(1, 2, figsize=(15, 5))\n",
        "\n",
        "    # Tracé de la perte\n",
        "    ax[0].plot(range(1, num_epochs + 1), t_train_loss, label='Perte d\\'entraînement', marker='o')\n",
        "    ax[0].plot(range(1, num_epochs + 1), t_test_loss, label='Perte de test', marker='o')\n",
        "    ax[0].set_xlabel('Époque')\n",
        "    ax[0].set_ylabel('Perte')\n",
        "    ax[0].set_title('Perte d\\'entraînement et Perte de test')\n",
        "    ax[0].legend()\n",
        "    ax[0].grid(True)\n",
        "\n",
        "    # Tracé de la précision\n",
        "    ax[1].plot(range(1, num_epochs + 1), t_train_acc, label='Précision d\\'entraînement', marker='o')\n",
        "    ax[1].plot(range(1, num_epochs + 1), t_test_acc, label='Précision de test', marker='o')\n",
        "    ax[1].set_xlabel('Époque')\n",
        "    ax[1].set_ylabel('Précision')\n",
        "    ax[1].set_title('Précision d\\'entraînement et Précision de test')\n",
        "    ax[1].legend()\n",
        "    ax[1].grid(True)\n",
        "\n",
        "    plt.tight_layout()\n",
        "    plt.show()\n",
        "\n",
        "    torch.save(model.state_dict(), 'model_state_dict.pth')\n",
        "    torch.save(model, 'model.pth')\n",
        "    print(\"Model saved\")\n",
        "    print(\"Done\")\n",
        "\n",
        "if __name__ == '__main__':\n",
        "    main()"
      ]
    }
  ],
  "metadata": {
    "accelerator": "GPU",
    "colab": {
      "gpuType": "T4",
      "provenance": []
    },
    "kaggle": {
      "accelerator": "nvidiaTeslaT4",
      "dataSources": [],
      "dockerImageVersionId": 31090,
      "isGpuEnabled": true,
      "isInternetEnabled": true,
      "language": "python",
      "sourceType": "notebook"
    },
    "kernelspec": {
      "display_name": "Python 3",
      "name": "python3"
    },
    "language_info": {
      "codemirror_mode": {
        "name": "ipython",
        "version": 3
      },
      "file_extension": ".py",
      "mimetype": "text/x-python",
      "name": "python",
      "nbconvert_exporter": "python",
      "pygments_lexer": "ipython3",
      "version": "3.11.13"
    }
  },
  "nbformat": 4,
  "nbformat_minor": 0
}
