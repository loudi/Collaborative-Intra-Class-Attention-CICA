{
  "cells": [
    {
      "cell_type": "code",
      "execution_count": null,
      "metadata": {
        "_cell_guid": "b1076dfc-b9ad-4769-8c92-a6c4dae69d19",
        "_uuid": "8f2839f25d086af736a60e9eeb907d3b93b6e0e5",
        "execution": {
          "iopub.execute_input": "2025-07-19T14:22:46.759211Z",
          "iopub.status.busy": "2025-07-19T14:22:46.758838Z",
          "iopub.status.idle": "2025-07-19T14:24:41.710526Z",
          "shell.execute_reply": "2025-07-19T14:24:41.709690Z",
          "shell.execute_reply.started": "2025-07-19T14:22:46.759175Z"
        },
        "id": "Vqp6-1M6ASla",
        "outputId": "51e550ec-d13f-4468-ce90-12efb58eaf0a",
        "trusted": true
      },
      "outputs": [
        {
          "name": "stdout",
          "output_type": "stream",
          "text": [
            "\n",
            "Epoch 1/10\n"
          ]
        },
        {
          "name": "stderr",
          "output_type": "stream",
          "text": [
            "Training       : 100%|██████████| 157/157 [00:06<00:00, 24.08it/s]\n"
          ]
        },
        {
          "name": "stdout",
          "output_type": "stream",
          "text": [
            "Train Loss     : 2.1476\n",
            "Train Accuracy : 20.26%\n"
          ]
        },
        {
          "name": "stderr",
          "output_type": "stream",
          "text": [
            "Testing        : 100%|██████████| 250/250 [00:03<00:00, 63.04it/s]\n"
          ]
        },
        {
          "name": "stdout",
          "output_type": "stream",
          "text": [
            "Test Loss      : 1.9487\n",
            "Test Accuracy  : 26.18%\n",
            "\n",
            "Epoch 2/10\n"
          ]
        },
        {
          "name": "stderr",
          "output_type": "stream",
          "text": [
            "Training       : 100%|██████████| 157/157 [00:06<00:00, 24.36it/s]\n"
          ]
        },
        {
          "name": "stdout",
          "output_type": "stream",
          "text": [
            "Train Loss     : 1.9443\n",
            "Train Accuracy : 26.50%\n"
          ]
        },
        {
          "name": "stderr",
          "output_type": "stream",
          "text": [
            "Testing        : 100%|██████████| 250/250 [00:03<00:00, 63.25it/s]\n"
          ]
        },
        {
          "name": "stdout",
          "output_type": "stream",
          "text": [
            "Test Loss      : 1.8695\n",
            "Test Accuracy  : 29.64%\n",
            "\n",
            "Epoch 3/10\n"
          ]
        },
        {
          "name": "stderr",
          "output_type": "stream",
          "text": [
            "Training       : 100%|██████████| 157/157 [00:06<00:00, 24.27it/s]\n"
          ]
        },
        {
          "name": "stdout",
          "output_type": "stream",
          "text": [
            "Train Loss     : 1.8719\n",
            "Train Accuracy : 28.04%\n"
          ]
        },
        {
          "name": "stderr",
          "output_type": "stream",
          "text": [
            "Testing        : 100%|██████████| 250/250 [00:03<00:00, 65.20it/s]\n"
          ]
        },
        {
          "name": "stdout",
          "output_type": "stream",
          "text": [
            "Test Loss      : 1.8181\n",
            "Test Accuracy  : 31.04%\n",
            "\n",
            "Epoch 4/10\n"
          ]
        },
        {
          "name": "stderr",
          "output_type": "stream",
          "text": [
            "Training       : 100%|██████████| 157/157 [00:06<00:00, 24.28it/s]\n"
          ]
        },
        {
          "name": "stdout",
          "output_type": "stream",
          "text": [
            "Train Loss     : 1.7977\n",
            "Train Accuracy : 31.98%\n"
          ]
        },
        {
          "name": "stderr",
          "output_type": "stream",
          "text": [
            "Testing        : 100%|██████████| 250/250 [00:04<00:00, 62.34it/s]\n"
          ]
        },
        {
          "name": "stdout",
          "output_type": "stream",
          "text": [
            "Test Loss      : 1.7190\n",
            "Test Accuracy  : 34.54%\n",
            "\n",
            "Epoch 5/10\n"
          ]
        },
        {
          "name": "stderr",
          "output_type": "stream",
          "text": [
            "Training       : 100%|██████████| 157/157 [00:06<00:00, 24.36it/s]\n"
          ]
        },
        {
          "name": "stdout",
          "output_type": "stream",
          "text": [
            "Train Loss     : 1.7368\n",
            "Train Accuracy : 33.84%\n"
          ]
        },
        {
          "name": "stderr",
          "output_type": "stream",
          "text": [
            "Testing        : 100%|██████████| 250/250 [00:03<00:00, 63.02it/s]\n"
          ]
        },
        {
          "name": "stdout",
          "output_type": "stream",
          "text": [
            "Test Loss      : 1.6408\n",
            "Test Accuracy  : 38.29%\n",
            "\n",
            "Epoch 6/10\n"
          ]
        },
        {
          "name": "stderr",
          "output_type": "stream",
          "text": [
            "Training       : 100%|██████████| 157/157 [00:06<00:00, 24.75it/s]\n"
          ]
        },
        {
          "name": "stdout",
          "output_type": "stream",
          "text": [
            "Train Loss     : 1.6646\n",
            "Train Accuracy : 37.30%\n"
          ]
        },
        {
          "name": "stderr",
          "output_type": "stream",
          "text": [
            "Testing        : 100%|██████████| 250/250 [00:03<00:00, 67.24it/s]\n"
          ]
        },
        {
          "name": "stdout",
          "output_type": "stream",
          "text": [
            "Test Loss      : 1.5956\n",
            "Test Accuracy  : 40.50%\n",
            "\n",
            "Epoch 7/10\n"
          ]
        },
        {
          "name": "stderr",
          "output_type": "stream",
          "text": [
            "Training       : 100%|██████████| 157/157 [00:06<00:00, 24.95it/s]\n"
          ]
        },
        {
          "name": "stdout",
          "output_type": "stream",
          "text": [
            "Train Loss     : 1.6115\n",
            "Train Accuracy : 40.12%\n"
          ]
        },
        {
          "name": "stderr",
          "output_type": "stream",
          "text": [
            "Testing        : 100%|██████████| 250/250 [00:03<00:00, 63.31it/s]\n"
          ]
        },
        {
          "name": "stdout",
          "output_type": "stream",
          "text": [
            "Test Loss      : 1.5469\n",
            "Test Accuracy  : 42.14%\n",
            "\n",
            "Epoch 8/10\n"
          ]
        },
        {
          "name": "stderr",
          "output_type": "stream",
          "text": [
            "Training       : 100%|██████████| 157/157 [00:06<00:00, 24.77it/s]\n"
          ]
        },
        {
          "name": "stdout",
          "output_type": "stream",
          "text": [
            "Train Loss     : 1.5690\n",
            "Train Accuracy : 41.42%\n"
          ]
        },
        {
          "name": "stderr",
          "output_type": "stream",
          "text": [
            "Testing        : 100%|██████████| 250/250 [00:03<00:00, 65.42it/s]\n"
          ]
        },
        {
          "name": "stdout",
          "output_type": "stream",
          "text": [
            "Test Loss      : 1.5499\n",
            "Test Accuracy  : 43.10%\n",
            "\n",
            "Epoch 9/10\n"
          ]
        },
        {
          "name": "stderr",
          "output_type": "stream",
          "text": [
            "Training       : 100%|██████████| 157/157 [00:06<00:00, 24.56it/s]\n"
          ]
        },
        {
          "name": "stdout",
          "output_type": "stream",
          "text": [
            "Train Loss     : 1.5432\n",
            "Train Accuracy : 42.82%\n"
          ]
        },
        {
          "name": "stderr",
          "output_type": "stream",
          "text": [
            "Testing        : 100%|██████████| 250/250 [00:03<00:00, 63.06it/s]\n"
          ]
        },
        {
          "name": "stdout",
          "output_type": "stream",
          "text": [
            "Test Loss      : 1.4993\n",
            "Test Accuracy  : 44.77%\n",
            "\n",
            "Epoch 10/10\n"
          ]
        },
        {
          "name": "stderr",
          "output_type": "stream",
          "text": [
            "Training       : 100%|██████████| 157/157 [00:06<00:00, 24.35it/s]\n"
          ]
        },
        {
          "name": "stdout",
          "output_type": "stream",
          "text": [
            "Train Loss     : 1.4990\n",
            "Train Accuracy : 45.06%\n"
          ]
        },
        {
          "name": "stderr",
          "output_type": "stream",
          "text": [
            "Testing        : 100%|██████████| 250/250 [00:03<00:00, 63.89it/s]\n"
          ]
        },
        {
          "name": "stdout",
          "output_type": "stream",
          "text": [
            "Test Loss      : 1.5140\n",
            "Test Accuracy  : 42.73%\n"
          ]
        },
        {
          "data": {
            "image/png": "[encoded data removed]",
            "text/plain": [
              "<Figure size 1500x500 with 2 Axes>"
            ]
          },
          "metadata": {},
          "output_type": "display_data"
        },
        {
          "name": "stdout",
          "output_type": "stream",
          "text": [
            "Model saved\n",
            "Done\n"
          ]
        }
      ],
      "source": [
        "import torch\n",
        "import torch.nn as nn\n",
        "import torch.optim as optim\n",
        "from torchvision import datasets, transforms\n",
        "from torch.utils.data import DataLoader\n",
        "from tqdm import tqdm\n",
        "import numpy as np\n",
        "import matplotlib.pyplot as plt\n",
        "\n",
        "\n",
        "# Configuration des hyperparamètres\n",
        "img_size = 96               # Taille des images CIFAR-10\n",
        "n_channels = 3              # Nombre de canaux (3 pour CIFAR-10)\n",
        "patch_size = 12             # Taille des patches, ajustée pour une meilleure performance sur CIFAR-10\n",
        "d_model = 256               # Dimension de l'embedding, augmentée pour une meilleure capacité d'apprentissage\n",
        "num_heads = 8               # Nombre de têtes dans l'attention multi-têtes, augmenté pour une meilleure modélisation\n",
        "num_layers = 6              # Nombre de couches du Transformer, ajusté pour une meilleure profondeur\n",
        "num_classes = 10           # Nombre de classes pour CIFAR-10\n",
        "ff_dim = 1024              # Dimension du feedforward network, augmentée pour une meilleure performance\n",
        "dropout = 0.2               # Taux de dropout, ajusté pour une meilleure généralisation\n",
        "\n",
        "#autre parametres\n",
        "lr = 1e-4                  # Taux d'apprentissage\n",
        "batch_size = 32             # Taille du lot\n",
        "num_epochs = 10            # Nombre d'époques\n",
        "\n",
        "\n",
        "\n",
        "class PatchEmbedding(nn.Module):\n",
        "    def __init__(self, d_model, img_size, patch_size, n_channels):\n",
        "        super().__init__()\n",
        "        self.patch_size = patch_size\n",
        "        self.img_size = img_size\n",
        "\n",
        "        # Convolution pour extraire les patches et les projeter directement dans l'espace d'embedding\n",
        "        self.patch_embedding = nn.Conv2d(\n",
        "            in_channels=n_channels,\n",
        "            out_channels=d_model,\n",
        "            kernel_size=patch_size,\n",
        "            stride=patch_size\n",
        "        )\n",
        "\n",
        "    def forward(self, x):\n",
        "        N, C, H, W = x.shape\n",
        "\n",
        "        # Passer l'image à travers la couche de patch embedding\n",
        "        x = self.patch_embedding(x)           # (N, C, H, W) -> (N, D, H/patch_size, W/patch_size)\n",
        "        x = x.flatten(2)                      # (N, D, H/patch_size, W/patch_size) -> (N, D, num_patches)\n",
        "        x = x.transpose(1, 2)                 # (N, D, num_patches) -> (N, num_patches, D)\n",
        "\n",
        "        return x\n",
        "\n",
        "\n",
        "\n",
        "\n",
        "\n",
        "class ViT(nn.Module):\n",
        "    def __init__(self, img_size, n_channels, patch_size, d_model, num_heads, num_layers, num_classes, ff_dim , dropout):\n",
        "        super(ViT, self).__init__()\n",
        "\n",
        "        self.patch_embedding = PatchEmbedding(d_model, img_size, patch_size, n_channels)\n",
        "\n",
        "\n",
        "        # Token CLS à concaténer\n",
        "        self.cls_token = nn.Parameter(torch.randn(1, 1, d_model))\n",
        "\n",
        "        # Embedding de position pour les patches et CLS token\n",
        "        num_patches = (img_size // patch_size) ** 2\n",
        "        self.position_embedding = nn.Parameter(\n",
        "            torch.randn(1, num_patches + 1, d_model)\n",
        "        )\n",
        "\n",
        "        # Définition d'une couche Transformer Encoder\n",
        "        encoder_layer = nn.TransformerEncoderLayer(\n",
        "            d_model=d_model,      # Dimension des embeddings\n",
        "            nhead=num_heads,          # Nombre de têtes dans l'attention multi-têtes\n",
        "            dim_feedforward=ff_dim,  # Dimension des couches feedforward\n",
        "            dropout=dropout   ,    # Taux de dropout\n",
        "            batch_first=True\n",
        "            )\n",
        "\n",
        "        self.transformer_encoder = nn.TransformerEncoder(encoder_layer, num_layers=num_layers)\n",
        "\n",
        "\n",
        "        self.dropout = nn.Dropout(dropout)\n",
        "\n",
        "        # Couche linéaire finale pour classification\n",
        "        self.fc = nn.Linear(d_model, num_classes)\n",
        "\n",
        "    def forward(self, x):\n",
        "\n",
        "        N, C, H, W = x.shape\n",
        "\n",
        "        # Passer l'image à travers la couche de patch embedding\n",
        "        x = self.patch_embedding(x)\n",
        "\n",
        "        # Concaténer le CLS token\n",
        "        cls_tokens = self.cls_token.repeat(N, 1, 1)\n",
        "        x = torch.cat((cls_tokens, x), dim=1)\n",
        "\n",
        "        # Ajouter les embeddings de position\n",
        "        x = x + self.position_embedding\n",
        "\n",
        "        # Passer à travers le Transformer Encoder\n",
        "        x = self.transformer_encoder(x)\n",
        "\n",
        "\n",
        "        # Dropout\n",
        "        x = self.dropout(x)\n",
        "\n",
        "        # Prendre la sortie du token CLS\n",
        "        x = x[:, 0]\n",
        "\n",
        "        # Couche finale pour la classification\n",
        "        x = self.fc(x)\n",
        "\n",
        "        return x\n",
        "\n",
        "\n",
        "# Fonction pour obtenir les DataLoaders\n",
        "def get_data_loaders(batch_size=batch_size):\n",
        "    transform_train = transforms.Compose([\n",
        "        transforms.RandomHorizontalFlip(),\n",
        "        transforms.RandomCrop(96, padding=4),\n",
        "        transforms.ToTensor(),\n",
        "        transforms.Normalize((0.5, 0.5, 0.5), (0.5, 0.5, 0.5))\n",
        "    ])\n",
        "\n",
        "    transform_test = transforms.Compose([\n",
        "        transforms.ToTensor(),\n",
        "        transforms.Normalize((0.5, 0.5, 0.5), (0.5, 0.5, 0.5))\n",
        "    ])\n",
        "\n",
        "    #trainset = datasets.CIFAR100(root='./data', train=True, transform=transform_train, download=True)\n",
        "    #testset = datasets.CIFAR100(root='./data', train=False, transform=transform_test, download=True)\n",
        "\n",
        "    trainset = datasets.STL10(root='./data', split='train', transform=transform_train, download=True)\n",
        "    testset = datasets.STL10(root='./data', split='test', transform=transform_test, download=True)\n",
        "\n",
        "    trainloader = DataLoader(trainset, batch_size=batch_size, shuffle=True, num_workers=2)\n",
        "    testloader = DataLoader(testset, batch_size=batch_size, shuffle=False, num_workers=2)\n",
        "\n",
        "    return trainloader, testloader\n",
        "\n",
        "# Fonction d'entraînement\n",
        "def train(model, train_loader, optimizer, criterion, device):\n",
        "    model.train()\n",
        "    running_loss = 0.0\n",
        "    correct = 0\n",
        "    total = 0\n",
        "    for images, labels in tqdm(train_loader, desc=\"Training       \"):\n",
        "        images, labels = images.to(device), labels.to(device)\n",
        "        optimizer.zero_grad()\n",
        "        outputs = model(images)\n",
        "        loss = criterion(outputs, labels)\n",
        "        loss.backward()\n",
        "        optimizer.step()\n",
        "        running_loss += loss.item()\n",
        "        _, predicted = torch.max(outputs.data, 1)\n",
        "        total += labels.size(0)\n",
        "        correct += (predicted == labels).sum().item()\n",
        "    epoch_loss = running_loss / len(train_loader)\n",
        "    train_accuracy = 100 * correct / total\n",
        "    return epoch_loss, train_accuracy\n",
        "\n",
        "\n",
        "# Fonction de test\n",
        "def test(model, test_loader, criterion, device):\n",
        "    model.eval()\n",
        "    correct = 0\n",
        "    total = 0\n",
        "    running_test_loss = 0.0\n",
        "    with torch.no_grad():\n",
        "        for images, labels in tqdm(test_loader, desc=\"Testing        \"):\n",
        "            images, labels = images.to(device), labels.to(device)\n",
        "            outputs = model(images)\n",
        "            loss = criterion(outputs, labels)\n",
        "            running_test_loss += loss.item()\n",
        "            _, predicted = torch.max(outputs, 1)\n",
        "            total += labels.size(0)\n",
        "            correct += (predicted == labels).sum().item()\n",
        "    test_loss = running_test_loss / len(test_loader)\n",
        "    test_accuracy = 100 * correct / total\n",
        "    return test_loss, test_accuracy\n",
        "\n",
        "# Fonction principale\n",
        "def main():\n",
        "    device = torch.device('cuda' if torch.cuda.is_available() else 'cpu')\n",
        "\n",
        "    trainloader, testloader = get_data_loaders()\n",
        "\n",
        "\n",
        "\n",
        "    # Initialisation du modèle\n",
        "    model = ViT(\n",
        "        img_size=img_size,\n",
        "        n_channels=n_channels,\n",
        "        patch_size=patch_size,\n",
        "        d_model=d_model,\n",
        "        num_heads=num_heads,\n",
        "        num_layers=num_layers,\n",
        "        num_classes=num_classes,\n",
        "        ff_dim=ff_dim,\n",
        "        dropout=dropout\n",
        "    )\n",
        "\n",
        "    model.to(device)\n",
        "    criterion = nn.CrossEntropyLoss()\n",
        "    optimizer = torch.optim.AdamW(model.parameters(), lr=lr)\n",
        "\n",
        "    t_train_acc = []\n",
        "    t_test_acc = []\n",
        "    t_train_loss = []\n",
        "    t_test_loss = []\n",
        "\n",
        "    for epoch in range(num_epochs):\n",
        "\n",
        "        print(f'\\nEpoch {epoch+1}/{num_epochs}')\n",
        "        train_loss, train_accuracy = train(model, trainloader, optimizer, criterion, device)\n",
        "        print(f'Train Loss     : {train_loss:.4f}')\n",
        "        print(f'Train Accuracy : {train_accuracy:.2f}%')\n",
        "        test_loss, test_accuracy = test(model, testloader, criterion, device)\n",
        "        print(f'Test Loss      : {test_loss:.4f}')\n",
        "        print(f'Test Accuracy  : {test_accuracy:.2f}%')\n",
        "\n",
        "        t_train_acc.append(train_accuracy)\n",
        "        t_test_acc.append(test_accuracy)\n",
        "        t_train_loss.append(train_loss)\n",
        "        t_test_loss.append(test_loss)\n",
        "\n",
        "    # Visualisation des pertes et des précisions\n",
        "    fig, ax = plt.subplots(1, 2, figsize=(15, 5))\n",
        "\n",
        "    # Tracé de la perte\n",
        "    ax[0].plot(range(1, num_epochs + 1), t_train_loss, label='Perte d\\'entraînement', marker='o')\n",
        "    ax[0].plot(range(1, num_epochs + 1), t_test_loss, label='Perte de test', marker='o')\n",
        "    ax[0].set_xlabel('Époque')\n",
        "    ax[0].set_ylabel('Perte')\n",
        "    ax[0].set_title('Perte d\\'entraînement et Perte de test')\n",
        "    ax[0].legend()\n",
        "    ax[0].grid(True)\n",
        "\n",
        "    # Tracé de la précision\n",
        "    ax[1].plot(range(1, num_epochs + 1), t_train_acc, label='Précision d\\'entraînement', marker='o')\n",
        "    ax[1].plot(range(1, num_epochs + 1), t_test_acc, label='Précision de test', marker='o')\n",
        "    ax[1].set_xlabel('Époque')\n",
        "    ax[1].set_ylabel('Précision')\n",
        "    ax[1].set_title('Précision d\\'entraînement et Précision de test')\n",
        "    ax[1].legend()\n",
        "    ax[1].grid(True)\n",
        "\n",
        "    plt.tight_layout()\n",
        "    plt.show()\n",
        "\n",
        "    torch.save(model.state_dict(), 'model_state_dict.pth')\n",
        "    torch.save(model, 'model.pth')\n",
        "    print(\"Model saved\")\n",
        "    print(\"Done\")\n",
        "\n",
        "\n",
        "if __name__ == '__main__':\n",
        "    main()"
      ]
    }
  ],
  "metadata": {
    "colab": {
      "provenance": []
    },
    "kaggle": {
      "accelerator": "nvidiaTeslaT4",
      "dataSources": [],
      "dockerImageVersionId": 31090,
      "isGpuEnabled": true,
      "isInternetEnabled": true,
      "language": "python",
      "sourceType": "notebook"
    },
    "kernelspec": {
      "display_name": "Python 3",
      "language": "python",
      "name": "python3"
    },
    "language_info": {
      "codemirror_mode": {
        "name": "ipython",
        "version": 3
      },
      "file_extension": ".py",
      "mimetype": "text/x-python",
      "name": "python",
      "nbconvert_exporter": "python",
      "pygments_lexer": "ipython3",
      "version": "3.11.13"
    }
  },
  "nbformat": 4,
  "nbformat_minor": 0
}
